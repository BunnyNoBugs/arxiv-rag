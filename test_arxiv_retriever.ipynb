{
 "cells": [
  {
   "cell_type": "markdown",
   "id": "ac6784853306a350",
   "metadata": {
    "id": "ac6784853306a350"
   },
   "source": [
    "# Langchain `ArxivRetriever`"
   ]
  },
  {
   "cell_type": "markdown",
   "id": "93cce4f898d86ad6",
   "metadata": {
    "id": "93cce4f898d86ad6"
   },
   "source": [
    "For retrieval, we will use langchain's `ArxivRetriever`.\n",
    "\n"
   ]
  },
  {
   "cell_type": "code",
   "execution_count": null,
   "id": "xdFa5ZhgYmAd",
   "metadata": {
    "id": "xdFa5ZhgYmAd"
   },
   "outputs": [],
   "source": [
    "!pip install langchain_community arxiv"
   ]
  },
  {
   "cell_type": "code",
   "execution_count": 1,
   "id": "initial_id",
   "metadata": {
    "ExecuteTime": {
     "end_time": "2024-12-07T13:33:13.895674Z",
     "start_time": "2024-12-07T13:33:13.219126Z"
    },
    "collapsed": true,
    "id": "initial_id"
   },
   "outputs": [],
   "source": [
    "from langchain_community.retrievers import ArxivRetriever"
   ]
  },
  {
   "cell_type": "markdown",
   "id": "z5-vgMiVnuNC",
   "metadata": {
    "id": "z5-vgMiVnuNC"
   },
   "source": [
    "Under the hood, it uses ArxivAPIWrapper class from the arxiv library.\n",
    "Arxiv search is based on the search engine which uses **BM25 metric** to rank documents' relevance.\n",
    "\n",
    "\n",
    "[arXiv API](https://lukasschwab.me/arxiv.py/arxiv.html)\n",
    "\n",
    "[arXiv search repo](https://github.com/arXiv/arxiv-search)"
   ]
  },
  {
   "cell_type": "code",
   "execution_count": 5,
   "id": "zqjzV0kMcNfY",
   "metadata": {
    "id": "zqjzV0kMcNfY"
   },
   "outputs": [
    {
     "data": {
      "text/plain": [
       "5"
      ]
     },
     "execution_count": 5,
     "metadata": {},
     "output_type": "execute_result"
    }
   ],
   "source": [
    "retriever = ArxivRetriever(\n",
    "    top_k_results=5,\n",
    "    get_full_documents=False,\n",
    "    doc_content_chars_max=10\n",
    ")\n",
    "query = 'AI'\n",
    "docs = retriever.invoke(query)\n",
    "len(docs)"
   ]
  },
  {
   "cell_type": "markdown",
   "id": "Q_K_XkvXHpTA",
   "metadata": {
    "id": "Q_K_XkvXHpTA"
   },
   "source": [
    "Because retriever searches arXiv database in its current state, we will stay up-to-date. "
   ]
  },
  {
   "cell_type": "code",
   "execution_count": 6,
   "id": "69_TqXCOcRGr",
   "metadata": {
    "id": "69_TqXCOcRGr"
   },
   "outputs": [
    {
     "data": {
      "text/plain": [
       "{'Entry ID': 'http://arxiv.org/abs/2412.04451v1',\n",
       " 'Published': datetime.date(2024, 12, 5),\n",
       " 'Title': 'Bordism and resolution of singularities',\n",
       " 'Authors': 'Mohammed Abouzaid, Shaoyun Bai'}"
      ]
     },
     "execution_count": 6,
     "metadata": {},
     "output_type": "execute_result"
    }
   ],
   "source": [
    "docs = retriever.invoke(\"2412.04451\") # paper submitted few days ago\n",
    "docs[0].metadata  # meta-information of the Document"
   ]
  },
  {
   "cell_type": "code",
   "execution_count": 7,
   "id": "WS6vN0TrdDfl",
   "metadata": {
    "colab": {
     "base_uri": "https://localhost:8080/"
    },
    "id": "WS6vN0TrdDfl",
    "outputId": "36dd6855-dc30-414d-bf47-89d8bf2907cd"
   },
   "outputs": [
    {
     "data": {
      "text/plain": [
       "Document(metadata={'Entry ID': 'http://arxiv.org/abs/2412.04451v1', 'Published': datetime.date(2024, 12, 5), 'Title': 'Bordism and resolution of singularities', 'Authors': 'Mohammed Abouzaid, Shaoyun Bai'}, page_content='We adapt algorithms for resolving the singularities of complex algebraic\\nvarieties to prove that the natural map of homology theories from complex\\nbordism to the bordism theory of complex derived orbifolds splits. In\\nequivariant stable homotopy theory, our techniques yield a splitting of\\nhomology theories for the map from bordism to the equivariant bordism theory of\\na finite group $\\\\Gamma$, given by assigning to a manifold its product with\\n$\\\\Gamma$. In symplectic topology, and using recent work of\\nAbouzaid-McLean-Smith and Hirshi-Swaminathan, we conclude that one can define\\ncomplex cobordism-valued Gromov-Witten invariant for arbirary (closed)\\nsymplectic manifolds. We apply our results to constrain the topology of the\\nspace of Hamiltonian fibrations over $S^2$. The methods we develop apply to\\nnormally complex orbifolds, and will hence lead to applications in symplectic\\ntopology that rely on moduli spaces of holomorphic curves with Lagrangian\\nboundary conditions.')"
      ]
     },
     "execution_count": 7,
     "metadata": {},
     "output_type": "execute_result"
    }
   ],
   "source": [
    "docs = retriever.invoke(\"Bordism and resolution of singularities\")\n",
    "docs[0]"
   ]
  },
  {
   "cell_type": "markdown",
   "id": "11bab5d5",
   "metadata": {},
   "source": [
    "Let's test it on some cases"
   ]
  },
  {
   "cell_type": "code",
   "execution_count": null,
   "id": "a3e0f6b1",
   "metadata": {},
   "outputs": [
    {
     "name": "stdout",
     "output_type": "stream",
     "text": [
      "TOPIC 0: bounded cohomology and its applications\n",
      "DOCS\n",
      "TITLE: Index bounded relative symplectic cohomology\n",
      "SUMMARY: We study the relative symplectic cohomology with the help of an index bounded\n",
      "contact form. For a Liouville domain with an index bounded boundary, we\n",
      "construct a spectral sequence which starts from its classical symplectic\n",
      "cohomology and converges to the relative symplectic cohomology of it inside a\n",
      "Calabi-Yau manifold. In the appendix we compare the relative symplectic\n",
      "cohomology of a Liouville domain inside its completion with its classical\n",
      "symplectic cohomology. As an application, we obtain a version of the Viterbo\n",
      "isomorphism.\n",
      "TITLE: Cohomology of twisted tensor products\n",
      "SUMMARY: It is well known that the cohomology of a tensor product is essentially the\n",
      "tensor product of the cohomologies. We look at twisted tensor products, and\n",
      "investigate to which extend this is still true. We give an explicit description\n",
      "of the $\\Ext$-algebra of the tensor product of two modules, and under certain\n",
      "additional conditions, describe an essential part of the Hochschild cohomology\n",
      "ring of a twisted tensor product. As an application, we characterize precisely\n",
      "when the cohomology groups over a quantum complete intersection are finitely\n",
      "generated over the Hochschild cohomology ring. Moreover, both for quantum\n",
      "complete intersections and in related cases we obtain a lower bound for the\n",
      "representation dimension of the algebra.\n",
      "TITLE: Bounded cohomology and homotopy colimits\n",
      "SUMMARY: The comparison map from bounded cohomology to singular cohomology plays an\n",
      "important role in the study of bounded cohomology theory and its applications.\n",
      "The vanishing and covering theorems of Gromov and Ivanov show interesting and\n",
      "useful properties of the comparison map under appropriate assumptions. We\n",
      "discuss an approach to these theorems, based on the general homotopy-theoretic\n",
      "properties of the comparison map, and obtain new proofs and refined versions of\n",
      "these results.\n",
      "\n",
      "TOPIC 1: differential privacy in real-world data\n",
      "DOCS\n",
      "TITLE: Differential Privacy By Sampling\n",
      "SUMMARY: In this paper we present the Sampling Privacy mechanism for privately\n",
      "releasing personal data. Sampling Privacy is a sampling based privacy mechanism\n",
      "that satisfies differential privacy.\n",
      "TITLE: Differential Privacy Made Easy\n",
      "SUMMARY: Data privacy is a major issue for many decades, several techniques have been\n",
      "developed to make sure individuals' privacy but still world has seen privacy\n",
      "failures. In 2006, Cynthia Dwork gave the idea of Differential Privacy which\n",
      "gave strong theoretical guarantees for data privacy. Many companies and\n",
      "research institutes developed differential privacy libraries, but in order to\n",
      "get the differentially private results, users have to tune the privacy\n",
      "parameters. In this paper, we minimized these tune-able parameters. The\n",
      "DP-framework is developed which compares the differentially private results of\n",
      "three Python based DP libraries. We also introduced a new very simple DP\n",
      "library (GRAM-DP), so the people with no background of differential privacy can\n",
      "still secure the privacy of the individuals in the dataset while releasing\n",
      "statistical results in public.\n",
      "TITLE: Randori: Local Differential Privacy for All\n",
      "SUMMARY: Polls are a common way of collecting data, including product reviews and\n",
      "feedback forms. However, few data collectors give upfront privacy guarantees.\n",
      "Additionally, when privacy guarantees are given upfront, they are often vague\n",
      "claims about 'anonymity'. Instead, we propose giving quantifiable privacy\n",
      "guarantees through the statistical notion of differential privacy.\n",
      "Nevertheless, privacy does not come for free. At the heart of differential\n",
      "privacy lies an inherent trade-off between accuracy and privacy that needs to\n",
      "be balanced. Thus, it is vital to properly adjust the accuracy-privacy\n",
      "trade-off before setting out to collect data. Altogether, getting started with\n",
      "differentially private data collection can be challenging. Ideally, a data\n",
      "analyst should not have to be concerned about all the details of differential\n",
      "privacy, but rather get differential privacy by design. Still, to the best of\n",
      "our knowledge, no tools for gathering poll data under differential privacy\n",
      "exists.\n",
      "  Motivated by the lack of tools to gather poll data under differential\n",
      "privacy, we set out to engineer our own tool. Specifically, to make local\n",
      "differential privacy accessible for all, in this systems paper we present\n",
      "Randori, a set of novel open source tools for differentially private poll data\n",
      "collection. Randori is intended to help data analysts keep their focus on what\n",
      "data their poll is collecting, as opposed to how they should collect it. Our\n",
      "tools also allow the data analysts to analytically predict the accuracy of\n",
      "their poll. Furthermore, we show that differential privacy alone is not enough\n",
      "to achieve end-to-end privacy in a server-client setting. Consequently, we also\n",
      "investigate and mitigate implicit data leaks in Randori.\n",
      "\n",
      "TOPIC 2: chaotic behavior in financial markets\n",
      "DOCS\n",
      "TITLE: Evidence of chaos and nonlinear dynamics in the Peruvian financial market\n",
      "SUMMARY: Physicists experimentalists use a large number of observations of a\n",
      "phenomenon, where are the unknown equations that describe it, in order to play\n",
      "the dynamics and obtain information on their future behavior. In this article\n",
      "we study the possibility of reproducing the dynamics of the phenomenon using\n",
      "only a measurement scale. The Whitney immersion theorem ideas are presented and\n",
      "generalization of Sauer for fractal sets to rebuild the asymptotic behaviour of\n",
      "the phenomena and to investigate, chaotic behavior evidence in the reproduced\n",
      "dynamics. The applications are made in the financial market which are only\n",
      "known stock prices.\n",
      "TITLE: RQA Application for the Monitoring of Financial and Commodity markets state\n",
      "SUMMARY: Nowadays, when crashes and crises are rather frequent events, an effective\n",
      "monitoring system for the international financial market is needed. Modern\n",
      "nonlinear methods, such as Recurrence Quantification Analysis (RQA),\n",
      "demonstrate the ability to reveal the regularities of the system behavior.\n",
      "Thus, they can be useful for the analysis of the market state in real time. In\n",
      "present paper we did an effort to apply the RQA for the purpose of economic\n",
      "time series monitoring. 12 stock indexes, 6 currency pairs and 4 commodities\n",
      "were taken for the study.\n",
      "TITLE: Understanding Financial Market States Using Artificial Double Auction Market\n",
      "SUMMARY: The ultimate value of theories of the fundamental mechanisms comprising the\n",
      "asset price in financial systems will be reflected in the capacity of such\n",
      "theories to understand these systems. Although the models that explain the\n",
      "various states of financial markets offer substantial evidences from the fields\n",
      "of finance, mathematics, and even physics to explain states observed in the\n",
      "real financial markets, previous theories that attempt to fully explain the\n",
      "complexities of financial markets have been inadequate. In this study, we\n",
      "propose an artificial double auction market as an agent-based model approach to\n",
      "study the origin of complex states in the financial markets, characterizing\n",
      "important parameters with an investment strategy that can cover the dynamics of\n",
      "the financial market. The investment strategy of chartist traders after market\n",
      "information arrives should reduce market stability originating in the price\n",
      "fluctuations of risky assets. However, fundamentalist traders strategically\n",
      "submit orders with a fundamental value and, thereby stabilize the market. We\n",
      "construct a continuous double auction market and find that the market is\n",
      "controlled by a fraction of chartists, P_{c}. We show that mimicking real\n",
      "financial markets state, which emerges in real financial systems, is given\n",
      "between approximately P_{c} = 0.40 and P_{c} = 0.85, but that mimicking the\n",
      "efficient market hypothesis state can be generated in a range of less than\n",
      "P_{c} = 0.40. In particular, we observe that the mimicking market collapse\n",
      "state created in a value greater than P_{c} = 0.85, in which a liquidity\n",
      "shortage occurs, and the phase transition behavior is P_{c} = 0.85.\n",
      "\n"
     ]
    }
   ],
   "source": [
    "retriever = ArxivRetriever(\n",
    "    load_max_docs=3,\n",
    "    get_summaries_as_docs=True,\n",
    ")\n",
    "\n",
    "queries = [\n",
    "    'bounded cohomology and its applications', \n",
    "    'differential privacy in real-world data', \n",
    "    'chaotic behavior in financial markets'\n",
    "]\n",
    "\n",
    "for num, query in enumerate(queries):\n",
    "    docs = retriever.invoke(query)\n",
    "    print(f'TOPIC {num}: {query}')\n",
    "    print('DOCS')\n",
    "    print(*[('TITLE: ' + doc.metadata['Title'] + '\\n' + 'SUMMARY: ' + doc.page_content) for doc in docs], sep='\\n')\n",
    "    print()\n"
   ]
  },
  {
   "cell_type": "markdown",
   "id": "9aeaf509",
   "metadata": {},
   "source": [
    "The retriever works well even with complicated queries. But we can still simplify them with the help of LLM when developing RAG."
   ]
  },
  {
   "cell_type": "code",
   "execution_count": 51,
   "id": "8d4e1be4",
   "metadata": {},
   "outputs": [
    {
     "name": "stdout",
     "output_type": "stream",
     "text": [
      "TOPIC 0: What are the latest advancements in using reinforcement learning techniques for optimizing supply chain logistics, particularly under uncertainty and constraints like limited storage or fluctuating demand?\n",
      "DOCS\n",
      "TITLE: Controllability Analyses on Firm Networks Based on Comprehensive Data\n",
      "SUMMARY: Since governments give stimulus to firms and expect the spillover effect by\n",
      "fiscal policies, it is important to know the effectiveness that they can\n",
      "control the economy. To clarify the controllability of the economy, we\n",
      "investigate a firm production network observed exhaustively in Japan and what\n",
      "firms should be directly or indirectly controlled by using control theory. By\n",
      "control theory, we can classify firms into three different types: (a) firms\n",
      "that should be directly controlled; (b) firms that should be indirectly\n",
      "controlled; (c) neither of them (ordinary). Since there is a direction\n",
      "(supplier and client) in the production network, we can consider controls of\n",
      "two different directions: demand and supply sides. As analyses results, we\n",
      "obtain the following results: (1) Each industry has diverse share of firms that\n",
      "should be controlled directly or indirectly. The configurations of the shares\n",
      "in industries are different between demand- and supply-sides; (2) Advancement\n",
      "of industries, such like, primary industries or other advanced industries, does\n",
      "not show apparent difference in controllability; (3) If we clip a network in\n",
      "descending order of capital size, we do not lose the control effect for both\n",
      "demand- and supply-sides.\n",
      "TITLE: Generative Probabilistic Planning for Optimizing Supply Chain Networks\n",
      "SUMMARY: Supply chain networks in enterprises are typically composed of complex\n",
      "topological graphs involving various types of nodes and edges, accommodating\n",
      "numerous products with considerable demand and supply variability. However, as\n",
      "supply chain networks expand in size and complexity, traditional supply chain\n",
      "planning methods (e.g., those found in heuristic rule-based and operations\n",
      "research-based systems) tend to become locally optimal or lack computational\n",
      "scalability, resulting in substantial imbalances between supply and demand\n",
      "across nodes in the network. This paper introduces a novel Generative AI\n",
      "technique, which we call Generative Probabilistic Planning (GPP). GPP generates\n",
      "dynamic supply action plans that are globally optimized across all network\n",
      "nodes over the time horizon for changing objectives like maximizing profits or\n",
      "service levels, factoring in time-varying probabilistic demand, lead time, and\n",
      "production conditions. GPP leverages attention-based graph neural networks\n",
      "(GNN), offline deep reinforcement learning (Offline RL), and policy simulations\n",
      "to train generative policy models and create optimal plans through\n",
      "probabilistic simulations, effectively accounting for various uncertainties.\n",
      "Our experiments using historical data from a global consumer goods company with\n",
      "complex supply chain networks demonstrate that GPP accomplishes\n",
      "objective-adaptable, probabilistically resilient, and dynamic planning for\n",
      "supply chain networks, leading to significant improvements in performance and\n",
      "profitability for enterprises. Our work plays a pivotal role in shaping the\n",
      "trajectory of AI adoption within the supply chain domain.\n",
      "TITLE: GNN-based Probabilistic Supply and Inventory Predictions in Supply Chain Networks\n",
      "SUMMARY: Successful supply chain optimization must mitigate imbalances between supply\n",
      "and demand over time. While accurate demand prediction is essential for supply\n",
      "planning, it alone does not suffice. The key to successful supply planning for\n",
      "optimal and viable execution lies in maximizing predictability for both demand\n",
      "and supply throughout an execution horizon. Therefore, enhancing the accuracy\n",
      "of supply predictions is imperative to create an attainable supply plan that\n",
      "matches demand without overstocking or understocking. However, in complex\n",
      "supply chain networks with numerous nodes and edges, accurate supply\n",
      "predictions are challenging due to dynamic node interactions, cascading supply\n",
      "delays, resource availability, production and logistic capabilities.\n",
      "Consequently, supply executions often deviate from their initial plans. To\n",
      "address this, we present the Graph-based Supply Prediction (GSP) probabilistic\n",
      "model. Our attention-based graph neural network (GNN) model predicts supplies,\n",
      "inventory, and imbalances using graph-structured historical data, demand\n",
      "forecasting, and original supply plan inputs. The experiments, conducted using\n",
      "historical data from a global consumer goods company's large-scale supply\n",
      "chain, demonstrate that GSP significantly improves supply and inventory\n",
      "prediction accuracy, potentially offering supply plan corrections to optimize\n",
      "executions.\n",
      "\n",
      "TOPIC 1: Reinforcement learning for optimizing supply chain logistics under uncertainty and constraints?\n",
      "DOCS\n",
      "TITLE: Resilience Analysis of Multi-modal Logistics Service Network Through Robust Optimization with Budget-of-Uncertainty\n",
      "SUMMARY: Supply chain resilience analysis aims to identify the critical elements in\n",
      "the supply chain, measure its reliability, and analyze solutions for improving\n",
      "vulnerabilities. While extensive methods like stochastic approaches have been\n",
      "dominant, robust optimization-widely applied in robust planning under\n",
      "uncertainties without specific probability distributions-remains relatively\n",
      "underexplored for this research problem. This paper employs robust optimization\n",
      "with budget-of-uncertainty as a tool to analyze the resilience of multi-modal\n",
      "logistics service networks under time uncertainty. We examine the interactive\n",
      "effects of three critical factors: network size, disruption scale, disruption\n",
      "degree. The computational experiments offer valuable managerial insights for\n",
      "practitioners and researchers.\n",
      "TITLE: GNN-based Probabilistic Supply and Inventory Predictions in Supply Chain Networks\n",
      "SUMMARY: Successful supply chain optimization must mitigate imbalances between supply\n",
      "and demand over time. While accurate demand prediction is essential for supply\n",
      "planning, it alone does not suffice. The key to successful supply planning for\n",
      "optimal and viable execution lies in maximizing predictability for both demand\n",
      "and supply throughout an execution horizon. Therefore, enhancing the accuracy\n",
      "of supply predictions is imperative to create an attainable supply plan that\n",
      "matches demand without overstocking or understocking. However, in complex\n",
      "supply chain networks with numerous nodes and edges, accurate supply\n",
      "predictions are challenging due to dynamic node interactions, cascading supply\n",
      "delays, resource availability, production and logistic capabilities.\n",
      "Consequently, supply executions often deviate from their initial plans. To\n",
      "address this, we present the Graph-based Supply Prediction (GSP) probabilistic\n",
      "model. Our attention-based graph neural network (GNN) model predicts supplies,\n",
      "inventory, and imbalances using graph-structured historical data, demand\n",
      "forecasting, and original supply plan inputs. The experiments, conducted using\n",
      "historical data from a global consumer goods company's large-scale supply\n",
      "chain, demonstrate that GSP significantly improves supply and inventory\n",
      "prediction accuracy, potentially offering supply plan corrections to optimize\n",
      "executions.\n",
      "TITLE: Enhancing Supply Chain Resilience: A Machine Learning Approach for Predicting Product Availability Dates Under Disruption\n",
      "SUMMARY: The COVID 19 pandemic and ongoing political and regional conflicts have a\n",
      "highly detrimental impact on the global supply chain, causing significant\n",
      "delays in logistics operations and international shipments. One of the most\n",
      "pressing concerns is the uncertainty surrounding the availability dates of\n",
      "products, which is critical information for companies to generate effective\n",
      "logistics and shipment plans. Therefore, accurately predicting availability\n",
      "dates plays a pivotal role in executing successful logistics operations,\n",
      "ultimately minimizing total transportation and inventory costs. We investigate\n",
      "the prediction of product availability dates for General Electric (GE) Gas\n",
      "Power's inbound shipments for gas and steam turbine service and manufacturing\n",
      "operations, utilizing both numerical and categorical features. We evaluate\n",
      "several regression models, including Simple Regression, Lasso Regression, Ridge\n",
      "Regression, Elastic Net, Random Forest (RF), Gradient Boosting Machine (GBM),\n",
      "and Neural Network models. Based on real world data, our experiments\n",
      "demonstrate that the tree based algorithms (i.e., RF and GBM) provide the best\n",
      "generalization error and outperforms all other regression models tested. We\n",
      "anticipate that our prediction models will assist companies in managing supply\n",
      "chain disruptions and reducing supply chain risks on a broader scale.\n",
      "\n"
     ]
    }
   ],
   "source": [
    "queries = [\n",
    "    'What are the latest advancements in using reinforcement learning techniques for optimizing supply chain logistics, particularly under uncertainty and constraints like limited storage or fluctuating demand?', \n",
    "    'Reinforcement learning for optimizing supply chain logistics under uncertainty and constraints?'\n",
    "]\n",
    "\n",
    "for num, query in enumerate(queries):\n",
    "    docs = retriever.invoke(query)\n",
    "    print(f'TOPIC {num}: {query}')\n",
    "    print('DOCS')\n",
    "    print(*[('TITLE: ' + doc.metadata['Title'] + '\\n' + 'SUMMARY: ' + doc.page_content) for doc in docs], sep='\\n')\n",
    "    print()\n"
   ]
  },
  {
   "cell_type": "markdown",
   "id": "e14c4075a018e85c",
   "metadata": {
    "id": "e14c4075a018e85c"
   },
   "source": [
    "You can choose different parameters, including:\n",
    "- `doc_content_chars_max`"
   ]
  },
  {
   "cell_type": "code",
   "execution_count": 91,
   "id": "631f8f5600eb0d38",
   "metadata": {
    "ExecuteTime": {
     "end_time": "2024-12-07T16:01:45.081942Z",
     "start_time": "2024-12-07T16:01:45.068921Z"
    },
    "id": "631f8f5600eb0d38"
   },
   "outputs": [],
   "source": [
    "retriever = ArxivRetriever(\n",
    "    load_max_docs=2,\n",
    "    get_full_documents=True,\n",
    "    doc_content_chars_max=10000000000 # you can retrieve full articles\n",
    ")"
   ]
  },
  {
   "cell_type": "code",
   "execution_count": 94,
   "id": "2c7cda07fd4ebc14",
   "metadata": {
    "ExecuteTime": {
     "end_time": "2024-12-07T16:01:49.547573Z",
     "start_time": "2024-12-07T16:01:48.367253Z"
    },
    "id": "2c7cda07fd4ebc14"
   },
   "outputs": [],
   "source": [
    "docs = retriever.invoke('asdf')"
   ]
  },
  {
   "cell_type": "code",
   "execution_count": 95,
   "id": "72e762753cf89ff1",
   "metadata": {
    "ExecuteTime": {
     "end_time": "2024-12-07T16:01:48.350224Z",
     "start_time": "2024-12-07T16:01:47.093569Z"
    },
    "id": "72e762753cf89ff1"
   },
   "outputs": [],
   "source": [
    "full_docs = retriever.invoke('asdf')"
   ]
  },
  {
   "cell_type": "code",
   "execution_count": 96,
   "id": "4ac291f7c8569c19",
   "metadata": {
    "ExecuteTime": {
     "end_time": "2024-12-07T13:41:44.834531Z",
     "start_time": "2024-12-07T13:41:44.827539Z"
    },
    "colab": {
     "base_uri": "https://localhost:8080/"
    },
    "id": "4ac291f7c8569c19",
    "outputId": "296c8541-2051-4b1c-c1d1-022348ce9d4c"
   },
   "outputs": [
    {
     "data": {
      "text/plain": [
       "72751"
      ]
     },
     "execution_count": 96,
     "metadata": {},
     "output_type": "execute_result"
    }
   ],
   "source": [
    "len(full_docs[0].page_content)"
   ]
  },
  {
   "cell_type": "code",
   "execution_count": null,
   "id": "c4a871f8c9075ad8",
   "metadata": {
    "ExecuteTime": {
     "end_time": "2024-12-07T13:41:44.962534Z",
     "start_time": "2024-12-07T13:41:44.950498Z"
    },
    "id": "c4a871f8c9075ad8",
    "outputId": "cfe749fc-54d9-4b51-c5eb-cdd566f17613"
   },
   "outputs": [
    {
     "data": {
      "text/plain": [
       "16873"
      ]
     },
     "execution_count": 49,
     "metadata": {},
     "output_type": "execute_result"
    }
   ],
   "source": [
    "len(full_docs[1].page_content)"
   ]
  }
 ],
 "metadata": {
  "colab": {
   "provenance": []
  },
  "kernelspec": {
   "display_name": "Python 3",
   "language": "python",
   "name": "python3"
  },
  "language_info": {
   "codemirror_mode": {
    "name": "ipython",
    "version": 3
   },
   "file_extension": ".py",
   "mimetype": "text/x-python",
   "name": "python",
   "nbconvert_exporter": "python",
   "pygments_lexer": "ipython3",
   "version": "3.11.10"
  }
 },
 "nbformat": 4,
 "nbformat_minor": 5
}
