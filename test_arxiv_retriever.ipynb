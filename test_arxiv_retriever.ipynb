{
 "cells": [
  {
   "cell_type": "code",
   "id": "initial_id",
   "metadata": {
    "collapsed": true,
    "ExecuteTime": {
     "end_time": "2024-12-07T13:33:13.895674Z",
     "start_time": "2024-12-07T13:33:13.219126Z"
    }
   },
   "source": "from langchain_community.retrievers import ArxivRetriever",
   "outputs": [],
   "execution_count": 1
  },
  {
   "metadata": {
    "ExecuteTime": {
     "end_time": "2024-12-07T13:41:42.012303Z",
     "start_time": "2024-12-07T13:41:42.004281Z"
    }
   },
   "cell_type": "code",
   "source": [
    "retriever = ArxivRetriever(\n",
    "    load_max_docs=2,\n",
    "    get_full_documents=True,\n",
    "    doc_content_chars_max=10000000000 # you can retrieve full articles\n",
    ")"
   ],
   "id": "631f8f5600eb0d38",
   "outputs": [],
   "execution_count": 44
  },
  {
   "metadata": {
    "ExecuteTime": {
     "end_time": "2024-12-07T13:41:43.486207Z",
     "start_time": "2024-12-07T13:41:42.250773Z"
    }
   },
   "cell_type": "code",
   "source": "docs = retriever.invoke('asdf')",
   "id": "2c7cda07fd4ebc14",
   "outputs": [],
   "execution_count": 45
  },
  {
   "metadata": {
    "ExecuteTime": {
     "end_time": "2024-12-07T13:41:44.723531Z",
     "start_time": "2024-12-07T13:41:43.490101Z"
    }
   },
   "cell_type": "code",
   "source": "full_docs = retriever.invoke('asdf')",
   "id": "72e762753cf89ff1",
   "outputs": [],
   "execution_count": 46
  },
  {
   "metadata": {
    "ExecuteTime": {
     "end_time": "2024-12-07T13:41:44.834531Z",
     "start_time": "2024-12-07T13:41:44.827539Z"
    }
   },
   "cell_type": "code",
   "source": "len(full_docs[0].page_content)",
   "id": "4ac291f7c8569c19",
   "outputs": [
    {
     "data": {
      "text/plain": [
       "72757"
      ]
     },
     "execution_count": 48,
     "metadata": {},
     "output_type": "execute_result"
    }
   ],
   "execution_count": 48
  },
  {
   "metadata": {
    "ExecuteTime": {
     "end_time": "2024-12-07T13:41:44.962534Z",
     "start_time": "2024-12-07T13:41:44.950498Z"
    }
   },
   "cell_type": "code",
   "source": "len(full_docs[1].page_content)",
   "id": "c4a871f8c9075ad8",
   "outputs": [
    {
     "data": {
      "text/plain": [
       "16873"
      ]
     },
     "execution_count": 49,
     "metadata": {},
     "output_type": "execute_result"
    }
   ],
   "execution_count": 49
  },
  {
   "metadata": {},
   "cell_type": "code",
   "outputs": [],
   "execution_count": null,
   "source": "",
   "id": "4c619433ae87967e"
  }
 ],
 "metadata": {
  "kernelspec": {
   "display_name": "Python 3",
   "language": "python",
   "name": "python3"
  },
  "language_info": {
   "codemirror_mode": {
    "name": "ipython",
    "version": 2
   },
   "file_extension": ".py",
   "mimetype": "text/x-python",
   "name": "python",
   "nbconvert_exporter": "python",
   "pygments_lexer": "ipython2",
   "version": "2.7.6"
  }
 },
 "nbformat": 4,
 "nbformat_minor": 5
}
