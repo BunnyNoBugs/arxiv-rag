{
 "cells": [
  {
   "metadata": {},
   "cell_type": "markdown",
   "source": "# Langchain `ArxivRetriever`",
   "id": "ac6784853306a350"
  },
  {
   "metadata": {},
   "cell_type": "markdown",
   "source": [
    "For retrieval, we will use langchain's `ArxivRetriever`. \n",
    "\n"
   ],
   "id": "93cce4f898d86ad6"
  },
  {
   "metadata": {
    "collapsed": true,
    "ExecuteTime": {
     "end_time": "2024-12-07T13:33:13.895674Z",
     "start_time": "2024-12-07T13:33:13.219126Z"
    }
   },
   "cell_type": "code",
   "outputs": [],
   "execution_count": 1,
   "source": "from langchain_community.retrievers import ArxivRetriever",
   "id": "initial_id"
  },
  {
   "metadata": {},
   "cell_type": "markdown",
   "source": "Under the hood, it uses arxiv library TODO",
   "id": "b287b6b3e870c4b3"
  },
  {
   "metadata": {
    "ExecuteTime": {
     "end_time": "2024-12-07T15:50:46.560675Z",
     "start_time": "2024-12-07T15:50:46.543810Z"
    }
   },
   "cell_type": "code",
   "source": "# TODO: import arxiv",
   "id": "1421044720ca6062",
   "outputs": [],
   "execution_count": 51
  },
  {
   "metadata": {},
   "cell_type": "markdown",
   "source": [
    "You can choose different parameters, including:\n",
    "- `doc_content_chars_max`"
   ],
   "id": "e14c4075a018e85c"
  },
  {
   "metadata": {
    "ExecuteTime": {
     "end_time": "2024-12-07T16:01:45.081942Z",
     "start_time": "2024-12-07T16:01:45.068921Z"
    }
   },
   "cell_type": "code",
   "outputs": [],
   "execution_count": 52,
   "source": [
    "retriever = ArxivRetriever(\n",
    "    load_max_docs=2,\n",
    "    get_full_documents=True,\n",
    "    doc_content_chars_max=10000000000 # you can retrieve full articles\n",
    ")"
   ],
   "id": "631f8f5600eb0d38"
  },
  {
   "metadata": {
    "ExecuteTime": {
     "end_time": "2024-12-07T16:01:49.547573Z",
     "start_time": "2024-12-07T16:01:48.367253Z"
    }
   },
   "cell_type": "code",
   "outputs": [],
   "execution_count": 55,
   "source": "docs = retriever.invoke('asdf')",
   "id": "2c7cda07fd4ebc14"
  },
  {
   "metadata": {
    "ExecuteTime": {
     "end_time": "2024-12-07T16:01:48.350224Z",
     "start_time": "2024-12-07T16:01:47.093569Z"
    }
   },
   "cell_type": "code",
   "outputs": [],
   "execution_count": 54,
   "source": "full_docs = retriever.invoke('asdf')",
   "id": "72e762753cf89ff1"
  },
  {
   "metadata": {
    "ExecuteTime": {
     "end_time": "2024-12-07T13:41:44.834531Z",
     "start_time": "2024-12-07T13:41:44.827539Z"
    }
   },
   "cell_type": "code",
   "outputs": [
    {
     "data": {
      "text/plain": [
       "72757"
      ]
     },
     "execution_count": 48,
     "metadata": {},
     "output_type": "execute_result"
    }
   ],
   "execution_count": 48,
   "source": "len(full_docs[0].page_content)",
   "id": "4ac291f7c8569c19"
  },
  {
   "metadata": {
    "ExecuteTime": {
     "end_time": "2024-12-07T13:41:44.962534Z",
     "start_time": "2024-12-07T13:41:44.950498Z"
    }
   },
   "cell_type": "code",
   "outputs": [
    {
     "data": {
      "text/plain": [
       "16873"
      ]
     },
     "execution_count": 49,
     "metadata": {},
     "output_type": "execute_result"
    }
   ],
   "execution_count": 49,
   "source": "len(full_docs[1].page_content)",
   "id": "c4a871f8c9075ad8"
  },
  {
   "metadata": {},
   "cell_type": "markdown",
   "source": "- TODO",
   "id": "e9467ce9eabe2183"
  },
  {
   "metadata": {},
   "cell_type": "markdown",
   "source": "TODO: Can it retrieve the latest papers?",
   "id": "c3234d9abab0c7f3"
  },
  {
   "metadata": {},
   "cell_type": "markdown",
   "source": "TODO: Does it do any mistakes?",
   "id": "8a251427098b13f5"
  },
  {
   "metadata": {},
   "cell_type": "code",
   "outputs": [],
   "execution_count": null,
   "source": "",
   "id": "9e3b465a3e18ec0f"
  }
 ],
 "metadata": {
  "kernelspec": {
   "display_name": "Python 3",
   "language": "python",
   "name": "python3"
  },
  "language_info": {
   "codemirror_mode": {
    "name": "ipython",
    "version": 2
   },
   "file_extension": ".py",
   "mimetype": "text/x-python",
   "name": "python",
   "nbconvert_exporter": "python",
   "pygments_lexer": "ipython2",
   "version": "2.7.6"
  }
 },
 "nbformat": 4,
 "nbformat_minor": 5
}
