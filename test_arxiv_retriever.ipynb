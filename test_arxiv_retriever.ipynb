{
 "cells": [
  {
   "cell_type": "markdown",
   "id": "ac6784853306a350",
   "metadata": {
    "id": "ac6784853306a350"
   },
   "source": [
    "# Langchain `ArxivRetriever`"
   ]
  },
  {
   "cell_type": "markdown",
   "id": "93cce4f898d86ad6",
   "metadata": {
    "id": "93cce4f898d86ad6"
   },
   "source": [
    "For retrieval, we will use langchain's `ArxivRetriever`.\n",
    "\n"
   ]
  },
  {
   "cell_type": "code",
   "execution_count": 1,
   "id": "initial_id",
   "metadata": {
    "ExecuteTime": {
     "end_time": "2024-12-07T13:33:13.895674Z",
     "start_time": "2024-12-07T13:33:13.219126Z"
    },
    "collapsed": true,
    "id": "initial_id"
   },
   "outputs": [],
   "source": [
    "from langchain_community.retrievers import ArxivRetriever"
   ]
  },
  {
   "cell_type": "markdown",
   "id": "z5-vgMiVnuNC",
   "metadata": {
    "id": "z5-vgMiVnuNC"
   },
   "source": [
    "Under the hood, it uses ArxivAPIWrapper class from the arxiv library.\n",
    "Arxiv search is based on the search engine which uses **BM25 metric** to rank documents' relevance.\n",
    "\n",
    "\n",
    "[arXiv API](https://lukasschwab.me/arxiv.py/arxiv.html)\n",
    "\n",
    "[arXiv search repo](https://github.com/arXiv/arxiv-search)"
   ]
  },
  {
   "cell_type": "code",
   "execution_count": 5,
   "id": "zqjzV0kMcNfY",
   "metadata": {
    "id": "zqjzV0kMcNfY"
   },
   "outputs": [
    {
     "data": {
      "text/plain": [
       "5"
      ]
     },
     "execution_count": 5,
     "metadata": {},
     "output_type": "execute_result"
    }
   ],
   "source": [
    "retriever = ArxivRetriever(\n",
    "    top_k_results=5,\n",
    "    get_full_documents=False,\n",
    "    doc_content_chars_max=10\n",
    ")\n",
    "query = 'AI'\n",
    "docs = retriever.invoke(query)\n",
    "len(docs)"
   ]
  },
  {
   "cell_type": "markdown",
   "id": "Q_K_XkvXHpTA",
   "metadata": {
    "id": "Q_K_XkvXHpTA"
   },
   "source": [
    "Because retriever searches arXiv database in its current state, we will stay up-to-date. "
   ]
  },
  {
   "cell_type": "code",
   "execution_count": 6,
   "id": "69_TqXCOcRGr",
   "metadata": {
    "id": "69_TqXCOcRGr"
   },
   "outputs": [
    {
     "data": {
      "text/plain": [
       "{'Entry ID': 'http://arxiv.org/abs/2412.04451v1',\n",
       " 'Published': datetime.date(2024, 12, 5),\n",
       " 'Title': 'Bordism and resolution of singularities',\n",
       " 'Authors': 'Mohammed Abouzaid, Shaoyun Bai'}"
      ]
     },
     "execution_count": 6,
     "metadata": {},
     "output_type": "execute_result"
    }
   ],
   "source": [
    "docs = retriever.invoke(\"2412.04451\") # paper submitted few days ago\n",
    "docs[0].metadata  # meta-information of the Document"
   ]
  },
  {
   "cell_type": "code",
   "execution_count": 7,
   "id": "WS6vN0TrdDfl",
   "metadata": {
    "colab": {
     "base_uri": "https://localhost:8080/"
    },
    "id": "WS6vN0TrdDfl",
    "outputId": "36dd6855-dc30-414d-bf47-89d8bf2907cd"
   },
   "outputs": [
    {
     "data": {
      "text/plain": [
       "Document(metadata={'Entry ID': 'http://arxiv.org/abs/2412.04451v1', 'Published': datetime.date(2024, 12, 5), 'Title': 'Bordism and resolution of singularities', 'Authors': 'Mohammed Abouzaid, Shaoyun Bai'}, page_content='We adapt algorithms for resolving the singularities of complex algebraic\\nvarieties to prove that the natural map of homology theories from complex\\nbordism to the bordism theory of complex derived orbifolds splits. In\\nequivariant stable homotopy theory, our techniques yield a splitting of\\nhomology theories for the map from bordism to the equivariant bordism theory of\\na finite group $\\\\Gamma$, given by assigning to a manifold its product with\\n$\\\\Gamma$. In symplectic topology, and using recent work of\\nAbouzaid-McLean-Smith and Hirshi-Swaminathan, we conclude that one can define\\ncomplex cobordism-valued Gromov-Witten invariant for arbirary (closed)\\nsymplectic manifolds. We apply our results to constrain the topology of the\\nspace of Hamiltonian fibrations over $S^2$. The methods we develop apply to\\nnormally complex orbifolds, and will hence lead to applications in symplectic\\ntopology that rely on moduli spaces of holomorphic curves with Lagrangian\\nboundary conditions.')"
      ]
     },
     "execution_count": 7,
     "metadata": {},
     "output_type": "execute_result"
    }
   ],
   "source": [
    "docs = retriever.invoke(\"Bordism and resolution of singularities\")\n",
    "docs[0]"
   ]
  },
  {
   "cell_type": "markdown",
   "id": "11bab5d5",
   "metadata": {},
   "source": [
    "Let's test it on some cases"
   ]
  },
  {
   "cell_type": "code",
   "execution_count": null,
   "id": "a3e0f6b1",
   "metadata": {},
   "outputs": [
    {
     "name": "stdout",
     "output_type": "stream",
     "text": [
      "TOPIC 0: bounded cohomology and its applications\n",
      "DOCS\n",
      "TITLE: Index bounded relative symplectic cohomology\n",
      "SUMMARY: We study the relative symplectic cohomology with the help of an index bounded\n",
      "contact form. For a Liouville domain with an index bounded boundary, we\n",
      "construct a spectral sequence which starts from its classical symplectic\n",
      "cohomology and converges to the relative symplectic cohomology of it inside a\n",
      "Calabi-Yau manifold. In the appendix we compare the relative symplectic\n",
      "cohomology of a Liouville domain inside its completion with its classical\n",
      "symplectic cohomology. As an application, we obtain a version of the Viterbo\n",
      "isomorphism.\n",
      "TITLE: Cohomology of twisted tensor products\n",
      "SUMMARY: It is well known that the cohomology of a tensor product is essentially the\n",
      "tensor product of the cohomologies. We look at twisted tensor products, and\n",
      "investigate to which extend this is still true. We give an explicit description\n",
      "of the $\\Ext$-algebra of the tensor product of two modules, and under certain\n",
      "additional conditions, describe an essential part of the Hochschild cohomology\n",
      "ring of a twisted tensor product. As an application, we characterize precisely\n",
      "when the cohomology groups over a quantum complete intersection are finitely\n",
      "generated over the Hochschild cohomology ring. Moreover, both for quantum\n",
      "complete intersections and in related cases we obtain a lower bound for the\n",
      "representation dimension of the algebra.\n",
      "TITLE: Bounded cohomology and homotopy colimits\n",
      "SUMMARY: The comparison map from bounded cohomology to singular cohomology plays an\n",
      "important role in the study of bounded cohomology theory and its applications.\n",
      "The vanishing and covering theorems of Gromov and Ivanov show interesting and\n",
      "useful properties of the comparison map under appropriate assumptions. We\n",
      "discuss an approach to these theorems, based on the general homotopy-theoretic\n",
      "properties of the comparison map, and obtain new proofs and refined versions of\n",
      "these results.\n",
      "\n",
      "TOPIC 1: differential privacy in real-world data\n",
      "DOCS\n",
      "TITLE: Differential Privacy By Sampling\n",
      "SUMMARY: In this paper we present the Sampling Privacy mechanism for privately\n",
      "releasing personal data. Sampling Privacy is a sampling based privacy mechanism\n",
      "that satisfies differential privacy.\n",
      "TITLE: Differential Privacy Made Easy\n",
      "SUMMARY: Data privacy is a major issue for many decades, several techniques have been\n",
      "developed to make sure individuals' privacy but still world has seen privacy\n",
      "failures. In 2006, Cynthia Dwork gave the idea of Differential Privacy which\n",
      "gave strong theoretical guarantees for data privacy. Many companies and\n",
      "research institutes developed differential privacy libraries, but in order to\n",
      "get the differentially private results, users have to tune the privacy\n",
      "parameters. In this paper, we minimized these tune-able parameters. The\n",
      "DP-framework is developed which compares the differentially private results of\n",
      "three Python based DP libraries. We also introduced a new very simple DP\n",
      "library (GRAM-DP), so the people with no background of differential privacy can\n",
      "still secure the privacy of the individuals in the dataset while releasing\n",
      "statistical results in public.\n",
      "TITLE: Randori: Local Differential Privacy for All\n",
      "SUMMARY: Polls are a common way of collecting data, including product reviews and\n",
      "feedback forms. However, few data collectors give upfront privacy guarantees.\n",
      "Additionally, when privacy guarantees are given upfront, they are often vague\n",
      "claims about 'anonymity'. Instead, we propose giving quantifiable privacy\n",
      "guarantees through the statistical notion of differential privacy.\n",
      "Nevertheless, privacy does not come for free. At the heart of differential\n",
      "privacy lies an inherent trade-off between accuracy and privacy that needs to\n",
      "be balanced. Thus, it is vital to properly adjust the accuracy-privacy\n",
      "trade-off before setting out to collect data. Altogether, getting started with\n",
      "differentially private data collection can be challenging. Ideally, a data\n",
      "analyst should not have to be concerned about all the details of differential\n",
      "privacy, but rather get differential privacy by design. Still, to the best of\n",
      "our knowledge, no tools for gathering poll data under differential privacy\n",
      "exists.\n",
      "  Motivated by the lack of tools to gather poll data under differential\n",
      "privacy, we set out to engineer our own tool. Specifically, to make local\n",
      "differential privacy accessible for all, in this systems paper we present\n",
      "Randori, a set of novel open source tools for differentially private poll data\n",
      "collection. Randori is intended to help data analysts keep their focus on what\n",
      "data their poll is collecting, as opposed to how they should collect it. Our\n",
      "tools also allow the data analysts to analytically predict the accuracy of\n",
      "their poll. Furthermore, we show that differential privacy alone is not enough\n",
      "to achieve end-to-end privacy in a server-client setting. Consequently, we also\n",
      "investigate and mitigate implicit data leaks in Randori.\n",
      "\n",
      "TOPIC 2: chaotic behavior in financial markets\n",
      "DOCS\n",
      "TITLE: Evidence of chaos and nonlinear dynamics in the Peruvian financial market\n",
      "SUMMARY: Physicists experimentalists use a large number of observations of a\n",
      "phenomenon, where are the unknown equations that describe it, in order to play\n",
      "the dynamics and obtain information on their future behavior. In this article\n",
      "we study the possibility of reproducing the dynamics of the phenomenon using\n",
      "only a measurement scale. The Whitney immersion theorem ideas are presented and\n",
      "generalization of Sauer for fractal sets to rebuild the asymptotic behaviour of\n",
      "the phenomena and to investigate, chaotic behavior evidence in the reproduced\n",
      "dynamics. The applications are made in the financial market which are only\n",
      "known stock prices.\n",
      "TITLE: RQA Application for the Monitoring of Financial and Commodity markets state\n",
      "SUMMARY: Nowadays, when crashes and crises are rather frequent events, an effective\n",
      "monitoring system for the international financial market is needed. Modern\n",
      "nonlinear methods, such as Recurrence Quantification Analysis (RQA),\n",
      "demonstrate the ability to reveal the regularities of the system behavior.\n",
      "Thus, they can be useful for the analysis of the market state in real time. In\n",
      "present paper we did an effort to apply the RQA for the purpose of economic\n",
      "time series monitoring. 12 stock indexes, 6 currency pairs and 4 commodities\n",
      "were taken for the study.\n",
      "TITLE: Understanding Financial Market States Using Artificial Double Auction Market\n",
      "SUMMARY: The ultimate value of theories of the fundamental mechanisms comprising the\n",
      "asset price in financial systems will be reflected in the capacity of such\n",
      "theories to understand these systems. Although the models that explain the\n",
      "various states of financial markets offer substantial evidences from the fields\n",
      "of finance, mathematics, and even physics to explain states observed in the\n",
      "real financial markets, previous theories that attempt to fully explain the\n",
      "complexities of financial markets have been inadequate. In this study, we\n",
      "propose an artificial double auction market as an agent-based model approach to\n",
      "study the origin of complex states in the financial markets, characterizing\n",
      "important parameters with an investment strategy that can cover the dynamics of\n",
      "the financial market. The investment strategy of chartist traders after market\n",
      "information arrives should reduce market stability originating in the price\n",
      "fluctuations of risky assets. However, fundamentalist traders strategically\n",
      "submit orders with a fundamental value and, thereby stabilize the market. We\n",
      "construct a continuous double auction market and find that the market is\n",
      "controlled by a fraction of chartists, P_{c}. We show that mimicking real\n",
      "financial markets state, which emerges in real financial systems, is given\n",
      "between approximately P_{c} = 0.40 and P_{c} = 0.85, but that mimicking the\n",
      "efficient market hypothesis state can be generated in a range of less than\n",
      "P_{c} = 0.40. In particular, we observe that the mimicking market collapse\n",
      "state created in a value greater than P_{c} = 0.85, in which a liquidity\n",
      "shortage occurs, and the phase transition behavior is P_{c} = 0.85.\n",
      "\n"
     ]
    }
   ],
   "source": [
    "retriever = ArxivRetriever(\n",
    "    load_max_docs=3,\n",
    "    get_summaries_as_docs=True,\n",
    ")\n",
    "\n",
    "queries = [\n",
    "    'bounded cohomology and its applications', \n",
    "    'differential privacy in real-world data', \n",
    "    'chaotic behavior in financial markets'\n",
    "]\n",
    "\n",
    "for num, query in enumerate(queries):\n",
    "    docs = retriever.invoke(query)\n",
    "    print(f'TOPIC {num}: {query}')\n",
    "    print('DOCS')\n",
    "    print(*[('TITLE: ' + doc.metadata['Title'] + '\\n' + 'SUMMARY: ' + doc.page_content) for doc in docs], sep='\\n')\n",
    "    print()\n"
   ]
  },
  {
   "cell_type": "markdown",
   "id": "9aeaf509",
   "metadata": {},
   "source": [
    "The retriever works well even with complicated queries. But we can still simplify them with the help of LLM when developing RAG."
   ]
  },
  {
   "cell_type": "code",
   "execution_count": 51,
   "id": "8d4e1be4",
   "metadata": {},
   "outputs": [
    {
     "name": "stdout",
     "output_type": "stream",
     "text": [
      "TOPIC 0: What are the latest advancements in using reinforcement learning techniques for optimizing supply chain logistics, particularly under uncertainty and constraints like limited storage or fluctuating demand?\n",
      "DOCS\n",
      "TITLE: Controllability Analyses on Firm Networks Based on Comprehensive Data\n",
      "SUMMARY: Since governments give stimulus to firms and expect the spillover effect by\n",
      "fiscal policies, it is important to know the effectiveness that they can\n",
      "control the economy. To clarify the controllability of the economy, we\n",
      "investigate a firm production network observed exhaustively in Japan and what\n",
      "firms should be directly or indirectly controlled by using control theory. By\n",
      "control theory, we can classify firms into three different types: (a) firms\n",
      "that should be directly controlled; (b) firms that should be indirectly\n",
      "controlled; (c) neither of them (ordinary). Since there is a direction\n",
      "(supplier and client) in the production network, we can consider controls of\n",
      "two different directions: demand and supply sides. As analyses results, we\n",
      "obtain the following results: (1) Each industry has diverse share of firms that\n",
      "should be controlled directly or indirectly. The configurations of the shares\n",
      "in industries are different between demand- and supply-sides; (2) Advancement\n",
      "of industries, such like, primary industries or other advanced industries, does\n",
      "not show apparent difference in controllability; (3) If we clip a network in\n",
      "descending order of capital size, we do not lose the control effect for both\n",
      "demand- and supply-sides.\n",
      "TITLE: Generative Probabilistic Planning for Optimizing Supply Chain Networks\n",
      "SUMMARY: Supply chain networks in enterprises are typically composed of complex\n",
      "topological graphs involving various types of nodes and edges, accommodating\n",
      "numerous products with considerable demand and supply variability. However, as\n",
      "supply chain networks expand in size and complexity, traditional supply chain\n",
      "planning methods (e.g., those found in heuristic rule-based and operations\n",
      "research-based systems) tend to become locally optimal or lack computational\n",
      "scalability, resulting in substantial imbalances between supply and demand\n",
      "across nodes in the network. This paper introduces a novel Generative AI\n",
      "technique, which we call Generative Probabilistic Planning (GPP). GPP generates\n",
      "dynamic supply action plans that are globally optimized across all network\n",
      "nodes over the time horizon for changing objectives like maximizing profits or\n",
      "service levels, factoring in time-varying probabilistic demand, lead time, and\n",
      "production conditions. GPP leverages attention-based graph neural networks\n",
      "(GNN), offline deep reinforcement learning (Offline RL), and policy simulations\n",
      "to train generative policy models and create optimal plans through\n",
      "probabilistic simulations, effectively accounting for various uncertainties.\n",
      "Our experiments using historical data from a global consumer goods company with\n",
      "complex supply chain networks demonstrate that GPP accomplishes\n",
      "objective-adaptable, probabilistically resilient, and dynamic planning for\n",
      "supply chain networks, leading to significant improvements in performance and\n",
      "profitability for enterprises. Our work plays a pivotal role in shaping the\n",
      "trajectory of AI adoption within the supply chain domain.\n",
      "TITLE: GNN-based Probabilistic Supply and Inventory Predictions in Supply Chain Networks\n",
      "SUMMARY: Successful supply chain optimization must mitigate imbalances between supply\n",
      "and demand over time. While accurate demand prediction is essential for supply\n",
      "planning, it alone does not suffice. The key to successful supply planning for\n",
      "optimal and viable execution lies in maximizing predictability for both demand\n",
      "and supply throughout an execution horizon. Therefore, enhancing the accuracy\n",
      "of supply predictions is imperative to create an attainable supply plan that\n",
      "matches demand without overstocking or understocking. However, in complex\n",
      "supply chain networks with numerous nodes and edges, accurate supply\n",
      "predictions are challenging due to dynamic node interactions, cascading supply\n",
      "delays, resource availability, production and logistic capabilities.\n",
      "Consequently, supply executions often deviate from their initial plans. To\n",
      "address this, we present the Graph-based Supply Prediction (GSP) probabilistic\n",
      "model. Our attention-based graph neural network (GNN) model predicts supplies,\n",
      "inventory, and imbalances using graph-structured historical data, demand\n",
      "forecasting, and original supply plan inputs. The experiments, conducted using\n",
      "historical data from a global consumer goods company's large-scale supply\n",
      "chain, demonstrate that GSP significantly improves supply and inventory\n",
      "prediction accuracy, potentially offering supply plan corrections to optimize\n",
      "executions.\n",
      "\n",
      "TOPIC 1: Reinforcement learning for optimizing supply chain logistics under uncertainty and constraints?\n",
      "DOCS\n",
      "TITLE: Resilience Analysis of Multi-modal Logistics Service Network Through Robust Optimization with Budget-of-Uncertainty\n",
      "SUMMARY: Supply chain resilience analysis aims to identify the critical elements in\n",
      "the supply chain, measure its reliability, and analyze solutions for improving\n",
      "vulnerabilities. While extensive methods like stochastic approaches have been\n",
      "dominant, robust optimization-widely applied in robust planning under\n",
      "uncertainties without specific probability distributions-remains relatively\n",
      "underexplored for this research problem. This paper employs robust optimization\n",
      "with budget-of-uncertainty as a tool to analyze the resilience of multi-modal\n",
      "logistics service networks under time uncertainty. We examine the interactive\n",
      "effects of three critical factors: network size, disruption scale, disruption\n",
      "degree. The computational experiments offer valuable managerial insights for\n",
      "practitioners and researchers.\n",
      "TITLE: GNN-based Probabilistic Supply and Inventory Predictions in Supply Chain Networks\n",
      "SUMMARY: Successful supply chain optimization must mitigate imbalances between supply\n",
      "and demand over time. While accurate demand prediction is essential for supply\n",
      "planning, it alone does not suffice. The key to successful supply planning for\n",
      "optimal and viable execution lies in maximizing predictability for both demand\n",
      "and supply throughout an execution horizon. Therefore, enhancing the accuracy\n",
      "of supply predictions is imperative to create an attainable supply plan that\n",
      "matches demand without overstocking or understocking. However, in complex\n",
      "supply chain networks with numerous nodes and edges, accurate supply\n",
      "predictions are challenging due to dynamic node interactions, cascading supply\n",
      "delays, resource availability, production and logistic capabilities.\n",
      "Consequently, supply executions often deviate from their initial plans. To\n",
      "address this, we present the Graph-based Supply Prediction (GSP) probabilistic\n",
      "model. Our attention-based graph neural network (GNN) model predicts supplies,\n",
      "inventory, and imbalances using graph-structured historical data, demand\n",
      "forecasting, and original supply plan inputs. The experiments, conducted using\n",
      "historical data from a global consumer goods company's large-scale supply\n",
      "chain, demonstrate that GSP significantly improves supply and inventory\n",
      "prediction accuracy, potentially offering supply plan corrections to optimize\n",
      "executions.\n",
      "TITLE: Enhancing Supply Chain Resilience: A Machine Learning Approach for Predicting Product Availability Dates Under Disruption\n",
      "SUMMARY: The COVID 19 pandemic and ongoing political and regional conflicts have a\n",
      "highly detrimental impact on the global supply chain, causing significant\n",
      "delays in logistics operations and international shipments. One of the most\n",
      "pressing concerns is the uncertainty surrounding the availability dates of\n",
      "products, which is critical information for companies to generate effective\n",
      "logistics and shipment plans. Therefore, accurately predicting availability\n",
      "dates plays a pivotal role in executing successful logistics operations,\n",
      "ultimately minimizing total transportation and inventory costs. We investigate\n",
      "the prediction of product availability dates for General Electric (GE) Gas\n",
      "Power's inbound shipments for gas and steam turbine service and manufacturing\n",
      "operations, utilizing both numerical and categorical features. We evaluate\n",
      "several regression models, including Simple Regression, Lasso Regression, Ridge\n",
      "Regression, Elastic Net, Random Forest (RF), Gradient Boosting Machine (GBM),\n",
      "and Neural Network models. Based on real world data, our experiments\n",
      "demonstrate that the tree based algorithms (i.e., RF and GBM) provide the best\n",
      "generalization error and outperforms all other regression models tested. We\n",
      "anticipate that our prediction models will assist companies in managing supply\n",
      "chain disruptions and reducing supply chain risks on a broader scale.\n",
      "\n"
     ]
    }
   ],
   "source": [
    "queries = [\n",
    "    'What are the latest advancements in using reinforcement learning techniques for optimizing supply chain logistics, particularly under uncertainty and constraints like limited storage or fluctuating demand?', \n",
    "    'Reinforcement learning for optimizing supply chain logistics under uncertainty and constraints?'\n",
    "]\n",
    "\n",
    "for num, query in enumerate(queries):\n",
    "    docs = retriever.invoke(query)\n",
    "    print(f'TOPIC {num}: {query}')\n",
    "    print('DOCS')\n",
    "    print(*[('TITLE: ' + doc.metadata['Title'] + '\\n' + 'SUMMARY: ' + doc.page_content) for doc in docs], sep='\\n')\n",
    "    print()\n"
   ]
  },
  {
   "cell_type": "markdown",
   "id": "e14c4075a018e85c",
   "metadata": {
    "id": "e14c4075a018e85c"
   },
   "source": [
    "You can choose different parameters, including:\n",
    "- `doc_content_chars_max`: the maximum number of characters in the retrieved documents"
   ]
  },
  {
   "cell_type": "code",
   "id": "631f8f5600eb0d38",
   "metadata": {
    "id": "631f8f5600eb0d38",
    "ExecuteTime": {
     "end_time": "2024-12-08T19:23:35.457712Z",
     "start_time": "2024-12-08T19:23:35.427572Z"
    }
   },
   "source": [
    "retriever = ArxivRetriever(\n",
    "    load_max_docs=2,\n",
    "    get_full_documents=True,\n",
    "    doc_content_chars_max=100 # you can limit the number of characters ...\n",
    ")"
   ],
   "outputs": [],
   "execution_count": 36
  },
  {
   "cell_type": "code",
   "id": "2c7cda07fd4ebc14",
   "metadata": {
    "id": "2c7cda07fd4ebc14",
    "ExecuteTime": {
     "end_time": "2024-12-08T19:23:43.347306Z",
     "start_time": "2024-12-08T19:23:37.444380Z"
    }
   },
   "source": "docs = retriever.invoke('squirrels')",
   "outputs": [],
   "execution_count": 37
  },
  {
   "cell_type": "code",
   "id": "72e762753cf89ff1",
   "metadata": {
    "id": "72e762753cf89ff1",
    "ExecuteTime": {
     "end_time": "2024-12-08T19:23:59.589827Z",
     "start_time": "2024-12-08T19:23:59.581830Z"
    }
   },
   "source": "docs",
   "outputs": [
    {
     "data": {
      "text/plain": [
       "[Document(metadata={'Published': '2023-04-20', 'Title': 'A discrete model for the growth and spread of the Scottish populations of red squirrels (Sciurus vulgaris) and grey squirrels (Sciurus carolinensis)', 'Authors': 'Jean-Baptiste Gramain', 'Summary': 'In this article, a model, discrete in space and time, is developed to\\ndescribe the growth and spread of the Scottish populations of red squirrels\\n(Sciurus vulgaris) and grey squirrel (Sciurus carolinensis). The initial state\\nfor the model is designed using a large dataset of records of sightings of\\nindividuals of both species reported by members of the public. Choices of\\nparameters involved in the model and their values are informed by the analysis\\nof this dataset for the period 2011-2016, and model predictions are compared to\\nrecords for the years 2006-2019.'}, page_content='A discrete model for the growth and spread of the Scottish populations of red \\nsquirrels (Sciurus vu'),\n",
       " Document(metadata={'Published': '2020-12-16', 'Title': 'Squirrel: A Switching Hyperparameter Optimizer', 'Authors': \"Noor Awad, Gresa Shala, Difan Deng, Neeratyoy Mallik, Matthias Feurer, Katharina Eggensperger, Andre' Biedenkapp, Diederick Vermetten, Hao Wang, Carola Doerr, Marius Lindauer, Frank Hutter\", 'Summary': 'In this short note, we describe our submission to the NeurIPS 2020 BBO\\nchallenge. Motivated by the fact that different optimizers work well on\\ndifferent problems, our approach switches between different optimizers. Since\\nthe team names on the competition\\'s leaderboard were randomly generated\\n\"alliteration nicknames\", consisting of an adjective and an animal with the\\nsame initial letter, we called our approach the Switching Squirrel, or here,\\nshort, Squirrel.'}, page_content='arXiv:2012.08180v2  [cs.LG]  16 Dec 2020\\nSquirrel: A Switching Hyperparameter Optimizer\\nDescription ')]"
      ]
     },
     "execution_count": 40,
     "metadata": {},
     "output_type": "execute_result"
    }
   ],
   "execution_count": 40
  },
  {
   "metadata": {
    "ExecuteTime": {
     "end_time": "2024-12-08T19:24:20.068332Z",
     "start_time": "2024-12-08T19:24:20.054334Z"
    }
   },
   "cell_type": "code",
   "source": [
    "retriever = ArxivRetriever(\n",
    "    load_max_docs=2,\n",
    "    get_full_documents=True,\n",
    "    doc_content_chars_max=1000000000 # ... and retrieve full documents\n",
    ")"
   ],
   "id": "de97f72e70f802c4",
   "outputs": [],
   "execution_count": 41
  },
  {
   "metadata": {
    "ExecuteTime": {
     "end_time": "2024-12-08T19:24:33.105098Z",
     "start_time": "2024-12-08T19:24:31.022663Z"
    }
   },
   "cell_type": "code",
   "source": "full_docs = retriever.invoke('squirrels')",
   "id": "50a8d322131f7ee9",
   "outputs": [],
   "execution_count": 42
  },
  {
   "metadata": {
    "ExecuteTime": {
     "end_time": "2024-12-08T19:24:36.223068Z",
     "start_time": "2024-12-08T19:24:36.214274Z"
    }
   },
   "cell_type": "code",
   "source": "full_docs",
   "id": "8db4f335c670dc2",
   "outputs": [
    {
     "data": {
      "text/plain": [
       "[Document(metadata={'Published': '2023-04-20', 'Title': 'A discrete model for the growth and spread of the Scottish populations of red squirrels (Sciurus vulgaris) and grey squirrels (Sciurus carolinensis)', 'Authors': 'Jean-Baptiste Gramain', 'Summary': 'In this article, a model, discrete in space and time, is developed to\\ndescribe the growth and spread of the Scottish populations of red squirrels\\n(Sciurus vulgaris) and grey squirrel (Sciurus carolinensis). The initial state\\nfor the model is designed using a large dataset of records of sightings of\\nindividuals of both species reported by members of the public. Choices of\\nparameters involved in the model and their values are informed by the analysis\\nof this dataset for the period 2011-2016, and model predictions are compared to\\nrecords for the years 2006-2019.'}, page_content='A discrete model for the growth and spread of the Scottish populations of red \\nsquirrels (Sciurus vulgaris) and grey squirrels (Sciurus carolinensis). \\n \\nJean-Baptiste Gramain, Institute of Mathematics, University of Aberdeen, King\\'s College, \\nFraser Noble Building, Aberdeen AB24 3UE, UK \\nCorresponding author: Jean-Baptiste Gramain, jbgramain@abdn.ac.uk \\n \\nAbstract:  \\nIn this article, a model, discrete in space and time, is developed to describe the growth and \\nspread of the Scottish populations of red squirrels (Sciurus vulgaris) and grey squirrel (Sciurus \\ncarolinensis). The initial state for the model is designed using a large dataset of records of \\nsightings of individuals of both species reported by members of the public. Choices of \\nparameters involved in the model and their values are informed by the analysis of this dataset \\nfor the period 2011-2016, and model predictions are compared to records for the years 2006-\\n2019. \\n \\nKeywords: \\nRed & grey squirrels; Interspecific competition; Dispersal; Scotland; Woodland cover; \\nMathematical model \\n \\n1. Introduction: \\nThe North American grey squirrel (Sciurus carolinensis) is non-native to the UK, and was \\nintroduced in various parts of Britain in the early 1900\\'s. It has since spread throughout \\nEngland, Wales and Southern Scotland, apparently outcompeting and displacing (or even \\nlocally driving to extinction) the indigenous red squirrel (Sciurus vulgaris). Several models \\nhave been designed to describe the changes in red and grey squirrel population sizes and \\ndistributions (see e.g. Okubo et al., 1989; Rushton et al., 1997; Tompkins et al., 2003), but the \\nreasons behind the replacement of red squirrels by grey squirrels remain unclear (Reynolds, \\n1985; Tompkins et al., 2003).  \\n \\nThree main factors have been studied in order to understand the population dynamics of \\nthese two species: interspecific competition, habitat preference and environmental change, \\nand disease. While there is some evidence that, for example in areas dominated by deciduous \\ntrees, grey squirrels have the ability to exclude red squirrels (see e.g. Gurnell et al., 2004), it \\nhas been shown that both species can coexist for long periods in coniferous areas (Bryce et \\nal., 2002). Furthermore, analysis of available data for Norfolk between 1960 and 1982 \\n(Reynolds, 1985) as well as further model simulations (Okubo et al., 1989; Rushton et al., \\n1997) indicate that interspecific competition alone cannot explain the rate of displacement \\nof red squirrels by grey squirrels. Reynolds (1985) also found that habitat change was unlikely \\nto explain the decline of red squirrels in Norfolk. The role of disease, in particular squirrel \\nparapoxvirus, also remains unclear. There is evidence suggesting that squirrel parapoxvirus \\n(SQPV) was introduced in the UK with the arrival of grey squirrels (Scott et al., 1981; Duff et \\nal., 1996; Sainsbury and Ward, 1996). Grey squirrels are thought to act as a reservoir for SQPV \\n(Sainsbury et al., 2000), and the virus doesn’t appear to have any strong impact on their health \\nwhile it is known to cause severe disease and death in red squirrels (Tompkins et al., 2002). \\nSQPV contamination of red squirrels by grey squirrels has thus been studied as a contributive \\nfactor in the decline of red squirrel populations, but conclusions on the strength and scale of \\nthis process vary (Reynolds, 1985; Tompkins et al., 2003; Bruemmer et al., 2010; Chantrey et \\nal., 2014). It should also be noted that, to date, SQPV doesn’t appear to be present in Scotland \\n(Sainsbury et al., 2000), and will therefore not be included in the present study. \\n \\nIn response to the decline in UK red squirrel populations, various monitoring and \\nconservation programmes have been put in place, such as Saving Scotland’s Red Squirrels \\n(https://scottishsquirrels.org.uk/) which collates reports of squirrel sightings, and uses traps \\nto catch grey squirrels (which are then tagged or culled). Other programmes in Wales and \\nScotland aim to use the native pine marten (Martes martes) to control the grey squirrel \\npopulations, as red squirrels have a greater ability to avoid predation by pine martens \\n(Twining et al., 2021; Roberts and Heesterbeek, 2021; Slade et al., 2023). \\n \\nGiven the difficulty to study in detail the various interactions between the two squirrel \\nspecies (and their pathogens and predators), whether experimentally or through \\nobservations, modelling provides a useful and practical way to explore population dynamics \\nand derive predictions. This often takes one of two main forms (Rushton et al., 1997): \\nattempts to relate species’ distributions to environmental factors for which geographical data \\nis available (such as tree cover density or forest type), or the use of models for population \\ndynamics (such as Lotka-Volterra models for interspecific competition or predator-prey \\nsystems, or SEIR models) in order to exhibit distribution patterns. In this study, a new model \\nis described for the growth and spread of red and grey squirrel populations in Scotland, which \\naims to unify these two approaches. The model is based on a classical Lotka-Volterra model \\nfor interspecific competition, but is coupled with a model for dispersal based on habitat \\npreference, including altitude, tree cover density and forest type. The model and its various \\nparameters are inspired by and tested against a very large dataset of squirrel sighting reports \\navailable from the National Biodiversity Network. \\n \\n2. Material and methods: \\nThe model constructed to describe the evolution over time of the two Scottish squirrel \\npopulations is discrete in both time and space, and consists of two steps: interspecific \\ncompetition and dispersal. Both steps will be described discretely, but would obviously occur \\ncontinuously in the natural environment. An area covering Scotland was divided into ca. 10 \\n000 cells. Within each cell, the two populations are subject to interspecific competition, and \\na portion of each population disperses each year to the neighbouring cells according to their \\nattractiveness (defined in section 2.2.). \\n \\n \\n \\n2.1. Area and grid.  \\nThe geographic area used for the model is delimited by the latitudes 53.955°N and 59.04°N, \\nand by the longitudes -0.08°W and 7.04°W (see Fig. 1). This area completely contains \\nScotland, apart from part of the Outer Hebrides, where both squirrel species are absent. The \\nregion was divided into 10 057 cells 𝑆!,# (0 ≤𝑖≤112, 0 ≤𝑗≤88), the North-West corner \\nof 𝑆!,# having latitude 54 + 0.045𝑖°N and longitude 0.08𝑗°W. In this way, the area shown in \\nFig. 1 is 113-cell long from South to North, and 89-cell long from East to West. Each cell 𝑆!,# \\nhas South-North side 0.045° of latitude and East-West side 0.08° of longitude, both of which \\nare approximately 5km, and which give an area 𝑎!,# ranging from 23.05km2 to 26.30km2. The \\nmodel describes the evolution over time of the numbers 𝑅$\\n!,# and 𝐺$\\n!,# of red and grey squirrels \\nliving in cell 𝑆!,# in year 𝑡. \\n \\n \\n \\nFigure 2. Map of the area considered for the model. A subset of the grid (defined by latitudes and \\nlongitudes) used in the model has been added. \\n \\n2.2. Attractiveness. \\nTo each 𝑆!,# are associated two numbers, 0 ≤𝐴%\\n!,#, 𝐴&\\n!,# ≤1, which describe the attractiveness \\nof 𝑆!,# to red and grey squirrels respectively. The terminology used should not be thought of \\nas having any biological meaning, but rather a mathematical one. The attractiveness of a cell \\naims to capture the likelihood of individuals of each species to be present in or to disperse to \\nthe cell. For each cell and species, the attractiveness is in turn a function (defined later on) of \\nthe altitude 𝑥!,# of the cell 𝑆!,# (defined as the average of the altitudes of the four corners of \\n𝑆!,#, computed using Wolfram Mathematica (Version 13.1.0.0)) and the forest type index \\n𝐹𝑇𝑌!,# of 𝑆!,#. \\n \\n2.3.  Interspecific competition. \\nInterspecific competition between years 𝑡 and 𝑡+ 1 is described by a discrete version of a \\nclassical Lotka-Volterra model as follows. For any cell 𝑆\\',( with population sizes 𝑅$\\n\\',( and 𝐺$\\n\\',( \\nin year 𝑡, let \\n𝐼𝑅$)*\\n\\',( = (1 + 𝑏% −𝑑%)𝑅$\\n\\',( (,!\\n\",$-%%\\n\",$-.&&%\\n\",$)\\n,!\\n\",$\\n , \\n𝐼𝐺$)*\\n\\',( = (1 + 𝑏& −𝑑&)𝐺$\\n\\',( (,&\\n\",$-&%\\n\",$-.!%%\\n\",$)\\n,&\\n\",$\\n , \\nwhere, for red squirrels, 𝑏% (respectively 𝑑%) is the per capita, per annum birth rate \\n(respectively death rate), 𝐾%\\n\\',( is the carrying capacity of 𝑆\\',( and 𝑐% is the competitive effect \\non grey squirrels, and similarly for grey squirrels, 𝑏&, 𝑑&, 𝐾&\\n\\',( and 𝑐&. The carrying capacities \\n𝐾%\\n\\',( and 𝐾&\\n\\',( are given by \\n0\",$\\n12 𝐾% and \\n0\",$\\n12 𝐾& respectively, where 𝐾% and 𝐾& are the carrying \\ncapacities for a 25km2 area. Estimates for all these parameters are given in Table 1. \\n \\n \\nTable 1. Estimated values for the parameters used in the model. Birth rates and death rates are given \\nper capita per annum, and carrying capacities are given for a 25 km2 area. (Adapted from Tompkins et \\nal. (2003)) \\n \\nParameter \\nSymbol \\nValue Reference \\n \\n \\n \\n \\nBoth species \\n \\n \\n \\nDeath rate \\n𝑑! = 𝑑\" \\n0.4 \\nGurnell (1987), Wauters et al. (2000) \\nDispersal fraction \\n𝜇 \\n0.2 \\nOkubo et al. (1989) \\n \\n \\n \\n \\nRed squirrel \\n \\n \\n \\nBirth rate \\n𝑏! \\n1.0 \\nOkubo et al. (1989) \\nCarrying capacity \\n𝐾! \\n60 \\nRushton et al. (1997) \\nCompetitive effect on grey \\n𝑐! \\n0.61 \\nBryce et al. (2001) \\n \\n \\n \\n \\nGrey squirrel \\n \\n \\n \\nBirth rate \\n𝑏\" \\n1.2 \\nOkubo et al. (1989) \\nCarrying capacity \\n𝐾\" \\n80 \\nRushton et al. (1997) \\nCompetitive effect on red \\n𝑐\" \\n1.65 \\nBryce et al. (2001) \\n \\n \\n \\n \\n2.4. Dispersal. \\nFor each 𝑆\\',(, the set 𝒩\\',( is defined to be the set of ordered pairs (𝑖, 𝑗) such that the cells 𝑆!,# \\nand 𝑆\\',( share exactly one or two corners. In this way, the elements of 𝒩\\',( label the \\nneighbours of 𝑆\\',(, and, apart from those on the border of the region considered, each cell \\nhas 8 neighbours. After the interspecific competition step described above, a proportion 𝜇 \\n(see Table 1) of each population disperses from 𝑆\\',( to its neighbours, according to the relative \\nattractiveness of each neighbour. For any (𝑖, 𝑗) in 𝒩\\',(, the attractiveness to red and grey \\nsquirrels of 𝑆!,# relative to 𝑆\\',( are given by  \\n𝐴%,(\\',()\\n!,#\\n= 𝐴%\\n!,#/(∑\\n𝐴%\\n3,4)\\n(3,4)∈𝒩\",$\\n and 𝐴&,(\\',()\\n!,#\\n= 𝐴&\\n!,#/(∑\\n𝐴&\\n3,4)\\n(3,4)∈𝒩\",$\\n \\nif these are defined, and  \\n𝐴%,(\\',()\\n!,#\\n= 𝐴&,(\\',()\\n!,#\\n= 0  \\notherwise. In particular, it is always the case that \\n ∑\\n𝐴%,(\\',()\\n!,#\\n=\\n(!,#)∈𝒩\",$\\n∑\\n𝐴%,(\\',()\\n!,#\\n=\\n(!,#)∈𝒩\",$\\n1,  \\nunless all neighbours of 𝑆\\',( have attractiveness 0. Also, if all neighbours of 𝑆\\',( have equal \\nattractiveness (for either squirrel species), then they also have equal attractiveness relative \\nto 𝑆\\',(. \\nThe numbers of red and grey squirrels which disperse from 𝑆\\',( to any of its neighbours 𝑆!,# \\nbetween years 𝑡 and 𝑡+ 1 are then given by  \\n𝐷%,(\\',()\\n!,#\\n= 𝜇𝐴%,(\\',()\\n!,#\\n𝐼𝑅$)*\\n\\',(  and 𝐷&,(\\',()\\n!,#\\n= 𝜇𝐴&,(\\',()\\n!,#\\n𝐼𝐺$)*\\n\\',( . \\nNote in particular that, unless all neighbours of 𝑆\\',( have attractiveness 0, \\n∑\\n𝐷%,(\\',()\\n!,#\\n= 𝜇𝐼𝑅$)*\\n\\',(\\n(!,#)∈𝒩\",$\\n and ∑\\n𝐷&,(\\',()\\n!,#\\n=\\n(!,#)∈𝒩\",$\\n𝜇𝐼𝐺$)*\\n\\',( , \\nso that a proportion 𝜇 of each population does disperse from 𝑆\\',( to its neighbourhood. \\n \\n2.5. Overall population changes. \\nPutting together the two steps described above (interspecific competition and dispersal), the \\nmodel predicts that, for any cell 𝑆\\',(, at the end of year 𝑡, the numbers of squirrels having left \\n𝑆\\',( are 𝜇𝐼𝑅$)*\\n\\',(  and 𝜇𝐼𝐺$)*\\n\\',( , while the numbers of squirrels which moved into 𝑆\\',( from its \\nneighbouring cells are \\n𝐷%\\n\\',( = ∑\\n𝐷%,(!,#)\\n\\',(\\n(!,#)∈𝒩\",$\\n and 𝐷&\\n\\',( = ∑\\n𝐷&,(!,#)\\n\\',(\\n(!,#)∈𝒩\",$\\n. \\nThis yields the following estimates for the populations of red and grey squirrels in 𝑆\\',( in year \\n𝑡+ 1: \\n𝑅$)*\\n\\',( = (1 −𝜇)𝐼𝑅$)*\\n\\',( + 𝐷%\\n\\',( and  𝐺$)*\\n\\',( = (1 −𝜇)𝐼𝐺$)*\\n\\',( + 𝐷&\\n\\',(. \\n \\nIn order to implement this model, all that is left is to define the initial conditions 𝑅7\\n!,# and 𝐺7\\n!,# \\nand the attractiveness 𝐴%\\n!,# and 𝐴&\\n!,# for each cell 𝑆!,# in the grid. This is done using existing data \\non the occurrence of red and grey squirrels in Scotland, as well as data on the type and extent \\nof the woodland cover in the area studied. \\n \\n2.6. Distribution data on red and grey squirrels \\nThe National Biodiversity Network (NBN) shares data collected by various partners, such as \\nthe Scottish Wildlife Trust, the Centre for Environmental Data and Recording, the Biological \\nRecords Centre and the Mammal Society. For red and grey squirrels, this data consists of \\nreports, made by organisations or members of the public, of squirrel sightings in the UK. This \\nincludes the date of the sighting, the number of individuals observed, and, when possible, the \\nGPS coordinates of the sighting.  \\n \\nThe use of such data as a proxy for animal abundance can lead to bias and errors (see e.g. \\nMacKenzie et al., 2002, 2009; McDonald-Madden et al., 2010). For example, recording effort \\nis likely to be inconsistent both in time and space, and biased towards red squirrels (as people \\ntend to report “the rare” rather than “the common”). Data collected after March 2020 is also \\nlikely to diverge from data collected previously, as more people spent time outdoors following \\nthe emergence of COVID-19. Future studies could be conducted to examine such possible \\ndivergence, and more generally assess the relevance of such recording efforts to estimate \\ntrends in population abundances.  \\n \\nData sets for red and grey squirrels recorded in the UK were obtained from the NBN Atlas \\n(https://nbnatlas.org), and cleaned to suit the needs of this work. \\n \\nAny unconfirmed record, any record without a precise date or location, and any record \\nof a sighting made after 2019 was discarded. This yielded data sets of 95 652 red squirrel \\nrecords and 704 476 grey squirrel records. When reported, abundance was ignored, and each \\nrecord was only considered as evidence for the presence of one individual at the given time \\nand location. For each record, the altitude of the record was computed and added to the data \\nset using Wolfram Mathematica. \\n \\n2.7. \\nInitial and boundary conditions \\nFor any cell 𝑆!,# located on the edge of the grid (i.e. 𝑖∈{0,112} or 𝑗∈{0,88}), and for any cell \\n𝑆!,# with altitude 𝑥!,# < 0, the initial numbers of red and grey squirrels were set to be 𝑅7\\n!,# = 0 \\nand 𝐺7\\n!,# = 0 respectively. For any inner cell, the data sets described above were used to \\nestimate the population sizes 𝑅7\\n!,# and 𝐺7\\n!,# as follows. The year 2006 was chosen to derive the \\ninitial condition for two reasons: it was the first year with a significant number of reports for \\nboth species in the region considered (3 227 and 2 915 for red and grey squirrels respectively), \\nand it allowed the comparison between the model\\'s predictions and actual data over several \\nyears. For each inner cell 𝑆!,# and each species, the number of 2006 records per km2 was \\ncomputed, and these “densities” were scaled linearly, to range from 0 to 1. The initial \\npopulation 𝑅7\\n!,# (resp. 𝐺7\\n!,#) was then defined as the product of the density by the carrying \\ncapacity 𝐾%\\n!,# (resp. 𝐾&\\n!,#), reflecting the assumption that a cell with maximal density should be \\nat carrying capacity for the corresponding species. The resulting estimates for the 2006 \\npopulation sizes are represented in Fig. 2. \\n \\n \\n \\nFigure 2. Initial conditions for the model. Red squirrels are represented in red, grey squirrels in blue. \\nColour opacity is proportional to numbers. (a) Number of records in Scotland in 2006. (b) Estimated \\npopulation sizes in Scotland in 2006. \\n \\n2.8. \\nWoodland cover data \\nIn order to include habitat characteristics in the model, High Resolution Layers (HRL) from the \\nCopernicus Land Monitoring Service, available from the European Environment Agency (EEA), \\nwere used. A total of eight images was downloaded and exploited, corresponding to the areas \\nE30N40 and E30N30 (which, together, cover the whole of the UK), and representing the tree \\ncover density and the forest type index for the years 2012 and 2015. For each year and each \\nregion, the images consist of pixels, each corresponding to a 100 m by 100 m square, and \\ncolour-coded to contain the data about the parameter considered (tree cover density or \\nforest type index). Using Wolfram Mathematica, the tree cover density (TCD) for each pixel \\nwas recovered, expressed as the percentage of the corresponding square covered by trees. \\nThe forest type index (FTY) for each pixel was also recovered and expressed as one of four \\nnumbers: 1 for squares dominated by deciduous forests, 2 for squares dominated by \\nconiferous forests, 1.5 for squares dominated by mixed forests, and 0 for squares with \\nunknown dominating forest type. \\n \\nEach image was produced by the EEA using the Projected Coordinate Reference System \\nETRS89 / ETRS-LAEA / EPSG: 3035 (with projection center’s coordinates 52°N, 10°E, false \\n(a)$\\n(b)$\\neasting 4 321 000 m and false northing 3 210 000 m). Using coordinate conversion formulas \\nfrom the International Association of Oil & Gas Producers (IAOGP, 2019), the latitude and \\nlongitude of each pixel of the Copernicus High Resolution Layers was computed using \\nWolfram Mathematica. \\nFor each cell 𝑆!,# in the overall grid, the (mean) tree cover density 𝑇𝐶𝐷!,# of 𝑆!,# was \\ncalculated (as a percentage) as the average of the TCDs for all the pixels lying in 𝑆!,#. The forest \\ntype index 𝐹𝑇𝑌!,# of 𝑆!,# was also calculated as follows. For cells without tree cover, or where \\nall pixels had FTY 0, the FTY of the cell was taken to be 0. For cells with at least one pixel with \\nnon-zero FTY, the FTY of the cell was defined as the weighted average of the non-zero FTYs \\nof the pixels, the weights being given by the TCD of the corresponding pixels. In this way, each \\ngrid cell was given an FTY of 0, or between 1 and 2 (an FTY closer to 1 reflecting a tree cover \\ndominated by deciduous trees, while an FTY closer to 2 reflected the dominance of coniferous \\ntrees). Such a weighted average was used in order to take into account the possibly different \\ntree cover densities of the pixels considered when estimating the overall forest type of the \\ncell. This was done separately for the years 2012 and 2015.  \\nFor each year between 2011 and 2016, the numbers of records of red and grey squirrels \\nin each cell 𝑆!,# were also computed and recorded. \\n \\n3. Results: \\n \\n3.1. Attractiveness. \\nAnalysis of the data described in sections 2.6. and 2.8. guided the definition, for each cell 𝑆!,# \\nin the grid, of the attractiveness (to both red and grey squirrels) of 𝑆!,#. For each cell and \\nspecies, the attractiveness is a product of two factors, representing differences observed in \\nthe distribution of red and grey squirrels according to altitude and tree cover. The \\nattractiveness of 𝑆!,# to red and grey squirrels are defined as \\n𝐴%\\n!,# = 𝐴%,8($\\n!,#\\n𝐴%,9:;;\\n!,#\\n and 𝐴&\\n!,# = 𝐴&,8($\\n!,#\\n𝐴&,9:;;\\n!,#\\n. \\n \\nFirst, for any cell 𝑆!,# located on the edge of the grid or with altitude 𝑥!,# < 0, the \\nattractiveness to red and grey squirrels were set to be 𝐴%\\n!,# = 𝐴&\\n!,# = 0. Together with the \\ninitial conditions chosen for these cells, and given the description of dispersal, this ensures \\nthat, as the model runs, no red or grey squirrel will ever be present in any of these cells. This \\nallows the model to keep within the boundaries of the region considered, and prevents the \\nmodelled spread of either squirrel population in areas actually covered by sea (and thus with \\nnegative altitude). \\n \\n3.2. Altitude. \\nTo define the components 𝐴%,8($\\n!,#\\n and 𝐴&,8($\\n!,#\\n of attractiveness corresponding to altitude for \\ninner squares, the records of both species made in 2006 over the whole of the UK (3 572 \\nrecords for red squirrels and 24 472 for grey squirrels) were used. For each species, the \\nnumber of reports for each 100 ft altitude interval from 0 ft to 2 000 ft was computed, and \\nthese numbers rescaled linearly to range from 0 to 1. A slight modification of a Rayleigh \\ndistribution was then fitted by trial and error to define the attractiveness as a function of \\naltitude (see Fig. 3). This was done to reflect the assumption that the abundance of squirrels \\nof both species at a given altitude is positively correlated to the attractiveness of this altitude, \\ni.e. that squirrels of both species are initially distributed according to attractiveness. The \\nformulae obtained in this way are 𝐴%,8($\\n!,#\\n= 𝑓:(𝑥!,#) and 𝐴&,8($\\n!,#\\n= 𝑓<(𝑥!,#), where 𝑥!,# is the \\naltitude of 𝑆!,#, given in feet, \\n𝑓:(𝑥) = L\\n=)277\\n277 M 𝑒\\n>*-?\\'()**\\n)** @\\n+\\nA/1 and 𝑓<(𝑥) = L\\n=)127\\nC27 M 𝑒\\n>*-?\\'(+)*\\n,)* @\\n+\\nA/1. \\nIt should be noted (see Fig. 3) that, while 𝑓: doesn\\'t give a particularly good fit at low altitudes, \\nits tail differs significantly from that of 𝑓:, reflecting the fact that a larger proportion of red \\nsquirrels than grey squirrels were found at higher altitudes. Indeed, 12.09% of the sightings \\nof red squirrels occurred at an altitude of 700 ft or more, compared to only 2.62% for grey \\nsquirrels. At an altitude of 1 000 ft or more, these proportions decreased to 5.10% and 0.68% \\nfor red and grey squirrels respectively. \\n \\n \\nFigure 3. Plots of the altitude attractiveness functions (blue curves) defined to approximate the scaled \\ndistributions of 2006 records (blue dots). (a) Red squirrels. (b) Grey squirrels. \\n(a)$\\n(b)$\\n \\n3.3. \\nWoodland cover. \\nThe tree cover densities and forest type indices computed for the 10 057 grid cells are \\nsummarised in Table 2. For both years (2012 and 2015), the minimum TCD for grid cells was \\n0%, and the minimum and maximum non-zero FTY were 1 and 2 respectively. \\n \\nTable 2. The maximum tree cover density (TCD), mean TCD and mean non-zero forest type index (FTY) \\ncomputed for the 10 057 grid cells of the region considered, using the Copernicus woodland cover \\ndata for the years 2012 and 2015. \\n \\nData year \\nMaximum TCD (%) \\nMean TCD (± SD) (%) \\nMean non-zero FTY (± SD) \\n2012 \\n66 \\n4.02 (± 8.27) \\n1.54 (± 0.35) \\n2015 \\n67.8 \\n4.20 (± 8.32) \\n1.51 (± 0.34) \\n \\n \\nThe tree cover density and forest type index were found to be positively correlated, with the \\nquadratic general linear model 𝑇𝐶𝐷= 36.95 −54.62𝐹𝑇𝑌+ 24.60𝐹𝑇𝑌1 significantly \\nexplaining 30.18% of the variability (𝑝< 0.001). \\n \\nTo describe the influence of the forest type index of a given cell 𝑆!,# on the probability of \\nsquirrels of each species being recorded in that cell, and thus define the components 𝐴%,9:;;\\n!,#\\n \\nand 𝐴&,9:;;\\n!,#\\n of the attractiveness of 𝑆!,#, the following analysis was carried out. Starting with \\nthe 2012 woodland cover data, cells with TCD 0% or FTY 0 were ignored, as were cells where \\nno squirrel was recorded in the years 2011, 2012 and 2013. Similarly, cells with TCD 0% or FTY \\n0 using the 2015 woodland cover data were ignored, as were cells where no squirrel was \\nrecorded in the years 2014, 2015 and 2016. For the 2012 data, 8,317 cells were thus excluded \\n(82.7%), while 8,103 cells were excluded for the 2015 data (80.6%). Note that, in this process, \\nsome cells may have been ignored using both the 2012 and 2015 woodland cover data, while \\nsome contributed twice to the remaining 3,694 cells, with possibly different FTYs for 2012 and \\n2015. Of the remaining 3,694 cells, 919 (24.9%) had records of squirrels of both species for \\nthese years and were also excluded. To estimate the probability of only red squirrels being \\nrecorded in a cell with a given FTY, the remaining 2,775 cells were attributed a value of 1 if \\n(only) red squirrels had been recorded in the three years corresponding to the data used to \\ncompute the FTY, and 0 otherwise (i.e. if only grey squirrels had been recorded in the cell in \\nthose three years), and binary logistic regressions were carried out on the resulting data for \\n2012 and 2015. The results are summarized in Fig. 4. Both binary logistic regressions provided \\nsignificant regression slope and intercept (𝑝< 0.001), and there was no significant difference \\nbetween regression slopes or slopes for the data corresponding to the 2012 and 2015 \\nwoodland cover data (𝜒1 = 0.26, 𝐷𝐹= 1, 𝑝= 0.608 and 𝜒1 = 0.10, 𝐷𝐹= 1, 𝑝= 0.752 \\nrespectively). Examination of the percentiles showed that, for the 2012 data, an FTY of 1.40 \\n(95% CI: (1.36, 1.43)) equates to a 50% chance of a red (or grey) squirrel being recorded, while, \\nfor the 2015 data, the corresponding FTY is 1.42 (95% CI: (1.39, 1.45)). Combining the data for \\n2012 and 2015, the binary logistic regression provided the following formulae for the \\nprobabilities of a red or grey squirrel being recorded in a cell of given FTY: \\n𝑃(𝑅𝑒𝑑 𝑠𝑞𝑢𝑖𝑟𝑟𝑒𝑙) =\\n;-\\n*);- and 𝑃(𝐺𝑟𝑒𝑦 𝑠𝑞𝑢𝑖𝑟𝑟𝑒𝑙) =\\n*\\n*);- , where 𝑦= 4.702𝐹𝑇𝑌−6.619. \\nFor each grid cell 𝑆!,#, the components 𝐴%,9:;;\\n!,#\\n and 𝐴&,9:;;\\n!,#\\n of the attractiveness of 𝑆!,# were \\ntherefore defined as \\n𝐴%,9:;;\\n!,#\\n= \\\\\\n0  if 𝐹𝑇𝑌!,# = 0\\n;-.,/\\n*);-.,/  otherwise  and  𝐴&,9:;;\\n!,#\\n= f\\n0  if 𝐹𝑇𝑌!,# = 0\\n*\\n*);-.,/  otherwise \\nwhere 𝐹𝑇𝑌!,# uses the 2015 woodland cover data, and 𝑦!,# = 4.702𝐹𝑇𝑌!,# −6.619. \\n \\n \\n \\nFigure 4. Normalized data for the squirrel records and Forest Type index (FTY) for 3,694 grid cells. \\nRecords for the years 2011 to 2013 are plotted against the FTY corresponding to the 2012 woodland \\ncover data (in red), and records for the years 2014 to 2016 are plotted against the FTY for the 2015 \\ndata (in blue). The data is normalized to represent the proportion of red squirrels amongst all squirrel \\nsightings reported for each grid cell. The probability of a red squirrel being reported for a cell of given \\nFTY, derived from the binary logistic regression, is shown in black.  \\n \\n3.4. \\nModel simulation. \\n \\nUsing the parameters listed in Table 1 and the values for attractiveness derived in sections \\n3.2. and 3.3., the model was run to simulate the evolution of the populations of red and grey \\nsquirrels in Scotland between the years 2006 and 2045. The corresponding map \\nrepresentations are given in Fig. 5. Representations of the reported data for selected years \\nwere also produced to test the validity of the model (see Fig. 6). \\n1.2\\n1.4\\n1.6\\n1.8\\n2.0\\nFTY\\n0.0\\n0.2\\n0.4\\n0.6\\n0.8\\n1.0\\nP(red)\\nⅇ-6.619+4.702 FTY\\n1+ⅇ-6.619+4.702 FTY\\n2012 woodland cover data\\n2015 woodland cover data\\n \\n \\n \\nFigure 5. Evolutions of the red and grey squirrel populations in Scotland predicted for the years 2006 \\nto 2044. Red squirrels are represented in red, grey squirrels in blue. Colour opacity is proportional to \\nnumbers \\n \\n \\nFigure 6. Comparison of the red and grey squirrel populations given by records and predicted by the \\nmodel for the years 2009, 2012, 2015 and 2017. Red squirrels are represented in red, grey squirrels in \\nblue. Colour opacity is proportional to numbers. (a) Number of records in Scotland. (b) Estimated \\npopulation sizes in Scotland. \\n4. Discussion: \\n \\n4.1. \\nAltitude and woodland cover. \\nThe analysis carried out showed a significantly larger number of red squirrels reported at \\nhigher altitude (over 700ft), and in forests dominated by conifers. These two phenomena \\nmight actually be linked, and reflect the fact that most conifer exploitation in Scotland occurs \\nin the Highlands. They may also be the result of the way in which grey squirrels historically \\nappeared in Scotland, spreading from the South and having thus not yet reached more \\nnorthern area which tend to be at higher altitude and/or dominated by coniferous forests. \\nHowever, they may also be indicative of different survival strategies and foraging efficiencies \\nbetween the two species. Grey squirrels may not be as tolerant to low temperatures as red \\nsquirrels, which would explain how a large population of red squirrels can be maintained at \\nhigher altitude, such as in the Grampians. More generally, it has already been shown that \\nmountain ranges, such as the Cumbrian Mountains, can provide an effective barrier to the \\ndispersal of grey squirrels (Stevenson et al., 2013). Further studies, in particular of the dens \\nused by both species, could elucidate this issue. Regarding the composition of the wood \\ncover, studies have demonstrated that, in areas dominated by deciduous trees, grey squirrels \\ntend to exclude red squirrels, while both species can coexist for long periods (over 40 years) \\nin coniferous woodland (Bryce et al., 2002; Gurnell et al., 2004). The positive correlation \\nbetween tree cover density and FTY might simply reflect the fact that most coniferous forests \\nin Scotland are planted and managed for timber, and tend to be much denser than either \\nnative or deciduous forests. However, such dense coniferous forests might also be better \\nexploited by red squirrels than by grey squirrels, or might offer more refuge for red squirrels. \\nTogether, these results suggest that targeted forest management could be used in order to \\nprotect Scottish populations of red squirrels. \\n \\n4.2. \\nModel pertinence. \\nThe choice of 2006 as the year used for the initial conditions for the model was made to allow \\nthe comparison of the model’s predictions with actual data until the year 2019. However, the \\nrelatively small number of records made in 2006 leads to the apparently small population \\nsizes predicted for the first few years of the simulation (see Fig. 5). One striking consequence \\nof the sparsity of the data available for 2006 is visible in the predictions derived for Northern \\nIreland. As no red squirrel sightings were reported in Northern Ireland in 2006, the model \\npredicts the absence of red squirrels in all subsequent years, even though data collected in \\nlater years demonstrate the presence of red squirrels in Northern Ireland (see Fig. 6). Since \\nthis paper is mostly interested in the case of Scottish populations, this wasn’t identified as a \\nsignificant issue in this study. Furthermore, the comparison carried out between the model’s \\npredictions and data for subsequent years (see Fig. 6) shows that the model is quite realistic \\nwhen it comes to Scottish squirrel populations. More accurate predictions could be obtained \\nby including the data for further years into the initial conditions for the model, but this could \\nhave led to a form of circular reasoning and prevented any meaningful assessment of the \\nquality of the model. Once the robustness of the model has been established, the records \\ndata for the years 2006-2019 can more safely be used to define more realistic initial \\nconditions for the model, and thus derive further predictions. Similarly, as new data becomes \\navailable about the woodland cover, this can be incorporated into the model to refine \\nsimulations. \\n \\n4.3. \\nAttractiveness. \\nA crucial part of the model uses the notion of attractiveness defined for each grid cell. It \\nshould be noted that this notion doesn’t claim to reflect any actual biological phenomenon. \\nFor example, the fact that areas of coniferous woodland have a larger attractiveness to red \\nsquirrels than deciduous forests do should not be interpreted as an indication that red \\nsquirrels have a preference for conifers over deciduous trees. Instead, the values given for \\nthe attractiveness of each grid cell are derived from the analysis of the data available. As such, \\nthe larger attractiveness to red squirrels of coniferous woodland may only reflect the fact that \\nred squirrels have already found refuge in coniferous forests, because they are outcompeted \\nby the invasive greys in deciduous forests. It might also simply be an artefact of the \\ngeographical distribution of coniferous forests compared to the current limits of the grey \\nsquirrel invasion. In that sense, attractiveness may appear to be a poorly chosen name, but it \\nremains a meaningful mathematical concept. From a modelling perspective, and irrelevant of \\nthe possible underlying biological or historical explanations, red squirrels are indeed more \\nlikely to disperse to an area covered by conifers than to a deciduous forest. The same \\ndiscussion applies to differences in attractiveness based on the altitude of the grid cells. \\n \\n5. Conclusions \\nThe model presented in this study is very flexible and can easily be adapted or extended. For \\nexample, it can be used for other species or different geographical areas, provided the \\nnecessary parameters can be extracted from existing data or evidence from the literature. \\nIn the case of the interaction between red and grey squirrels, further parameters could be \\nincluded when defining the attractiveness of each grid cell, such as the presence of pine \\nmarten, or the existence of local conservation measures such as trapping or culling. The \\ninterspecific competition part of the model could also be modified to include a predator-prey \\nelement to assess or simulate the effect of re-introduction of pine marten, or complemented \\nby an SEIR model to study the impact of squirrel parapoxvirus. \\nUltimately, the simulations produced should be used to better inform conservation strategies \\nand policies in forest management, urban development and environment protection. The \\nresults obtained in this study suggest that the complete replacement of the native population \\nof red squirrels in Scotland can be avoided, but that targeted measures might be needed, in \\nparticular the culling of grey squirrels in specific areas and the preservation and restauration \\nof Caledonian forests. \\n \\nThis research did not receive any specific grant from funding agencies in the public, \\ncommercial, or not-for-profit sectors. \\n \\nReferences \\nBruemmer, C. M., Rushton, S. P., Gurnell, J., Lurz, P. W. W., Nettleton, P., Sainsbury, A. W., \\nDuff, J. P., Gilray, J. and McInnes, C. J. (2010). Epidemiology of squirrelpox virus in grey \\nsquirrels in the UK. Epidemiol. Infect. 138, 941-950. \\nBryce, J. M., Speakman, J. R., Johnson, P. J. and Macdonald, D. W. (2001). Competition \\nbetween Eurasian red and introduced Eastern grey squirrels: the energetic significance \\nof body-mass differences. Proc. Roy. Soc. Lond. B 268, 1731-1736. \\nBryce, J., Johnson, P. J. and Macdonald, D. W. (2002). Can niche use in red and grey squirrels \\noffer clues for their apparent coexistence? J. Appl. Ecol. 39(6), 875-887. \\nChantrey, J., Dale, T. D., Read, J. M., White, S., Whitfield, F., Jones, D., McInnes, C. J. and \\nBegon, M. (2014). European red squirrel population dynamics driven by squirrelpox at \\na gray squirrel invasion interface. Ecol. Evol. 4(19), 3788-3799. \\nDuff, J. P., Scott, A. and Keymer, I. F. (1996). Parapoxvirus infection of the grey squirrel. Vet. \\nRec. 138, 527. \\nEuropean Environment Agency. Copernicus Land Monitoring Service. High Resolution Layers \\n(Forests). Available from https://land.copernicus.eu/pan-european/high-resolution-\\nlayers/forests Accessed on Mon June 6 11:30:27 UTC 2022. \\nGurnell, J. (1987). The Natural History of Squirrels. Christopher Helm, London. \\nGurnell, J., Wauters, L. A., Lurz, P. W. W. and Tosi, G. (2004). Alien species and interspecific \\ncompetition: effects of introduced eastern grey squirrels on red squirrel population \\ndynamics. J. Anim. Ecol. 73, 26-35. \\nInternational Association of Oil & Gas Producers (2019). Coordinate Conversions and \\nTransformations including Formulas. IAOGP Publication 373-7-2 – Geomatics Guidance \\nNote Number 7, part 2. Revised September 2019. \\nMacKenzie, D. I., Nichols, J. D., Lachman, G. B., Droege, S., Royle, J. A. and Langtim, C. A. \\n(2002). Estimating site occupancy rates when detection probabilities are less than one. \\nEcology 83(8), 2248-2255. \\nMacKenzie, D. I., Nichols, J. D., Seamans, M. E. and Gutierrez, R. J. (2009). Modelling species \\noccurrence dynamics with multiple states and imperfect detection. Ecology 90(3), 823-\\n835. \\nMcDonald-Madden, E., Baxter, P. W. J., Fuller, R. A., Martin, T. G., Game, E. T., Montambault, \\nJ. and Possingham, H.P. (2010). Monitoring does not always count. Trends. Ecol. Evol. \\n25(10), 547-550. \\nNBN Atlas occurrence download. https://nbnatlas.org Accessed on Thu Feb 13 14:16:03 UTC \\n2020. \\nOkubo, A., Maini, P. K., Williamson, M. H. and Murray, J. D. (1989). On the spatial spread of \\nthe grey squirrel in Britain. Proc. Roy. Soc. Lond. B 238, 113-125. \\nReynolds, J. C. (1985). Details of the Geographic Replacement of the Red Squirrel (Sciurus \\nvulgaris) by the Grey Squirrel (Sciurus carolinensis) in Eastern England. J. Anim. Ecol. \\n54(1), 149-162. \\nRoberts, M. G. and Heesterbeek, J. A. P. (2021). Infection dynamics in ecosystems: on the \\ninteraction between red and grey squirrels, pox virus, pine martens and trees. J. R. Soc. \\nInterface 18: 20210551. \\nRushton, S. P., Lurz, P. W. W., Fuller, R. and Garson, P. J. (1997). Modeling the distribution of \\nthe red and grey squirrel at the landscape scale: a combined GIS and population \\ndynamics approach. J. Appl. Ecol. 34, 1137-1154. \\nSainsbury, A. W., Nettleton, P., Gilray, J. and Gurnell, J. (2000). Grey squirrels have high \\nseroprevalence to a parapoxvirus associated with deaths in red squirrels. Anim. Conserv. \\n3, 229-233. \\nSainsbury, A. W. and Ward, L. (1996). Parapoxvirus infection in red squirrels. Vet. Rec. 138, \\n400. \\nScott, A. C., Keymer, I. F. and Labram, J. (1981). Parapoxvirus infection of the red squirrel \\n(Sciurus vulgaris). Vet. Rec. 109, 202. \\nSlade, A., White, A. R., Lurz, P. W. W., Shuttleworth, C., Tosh, D. G. and Twining, J. P. (2023). \\nIndirect effects of pine marten recovery result in benefits to native prey through \\nsuppression of an invasive species and a shared pathogen. Ecol. Modell. 476, 110216. \\nStevenson, C. D., Ramsey, A. D., Nevin, O. T. and Sinclair, W. (2013). Assessing Grey Squirrel \\nDispersal Patterns within the Landscape Using Sequence Variation. Landsc. Res. 38(4), \\n553-559. \\nTompkins, D. M., Sainsbury, A. W., Nettleton, P., Buxton, D. and Gurnell, J. (2002). \\nParapoxvirus causes a deleterious disease in red squirrels associated with UK population \\ndeclines. Proc. R. Soc. Lond. B  269, 529-533. \\nTompkins, D. M., White, A. R. and Boots, M. (2003). Ecological replacement of native red \\nsquirrels by invasive grey driven by disease. Ecol. Let. 6, 189-196. \\nTwining, J. P., Montgomery, W. I. and Tosh, D. G. (2021). Declining invasive grey squirrel \\npopulations may persist in refugia as native predator recovery reverses squirrel species \\nreplacement. J. Appl. Ecol. 58, 248-260. \\nWauters, L. A., Lurz, P. W. W. and Gurnell, J. (2000). Interspecific effects of grey squirrels \\n(Sciurus carolinensis) on the space use and population demography of red squirrels \\n(Sciurus vulgaris) in conifer plantations. Ecol. Res. 15, 271-284. \\n'),\n",
       " Document(metadata={'Published': '2020-12-16', 'Title': 'Squirrel: A Switching Hyperparameter Optimizer', 'Authors': \"Noor Awad, Gresa Shala, Difan Deng, Neeratyoy Mallik, Matthias Feurer, Katharina Eggensperger, Andre' Biedenkapp, Diederick Vermetten, Hao Wang, Carola Doerr, Marius Lindauer, Frank Hutter\", 'Summary': 'In this short note, we describe our submission to the NeurIPS 2020 BBO\\nchallenge. Motivated by the fact that different optimizers work well on\\ndifferent problems, our approach switches between different optimizers. Since\\nthe team names on the competition\\'s leaderboard were randomly generated\\n\"alliteration nicknames\", consisting of an adjective and an animal with the\\nsame initial letter, we called our approach the Switching Squirrel, or here,\\nshort, Squirrel.'}, page_content='arXiv:2012.08180v2  [cs.LG]  16 Dec 2020\\nSquirrel: A Switching Hyperparameter Optimizer\\nDescription of the entry by AutoML.org & IOHproﬁler\\nto the NeurIPS 2020 BBO challenge\\nNoor Awad 1\\nGresa Shala 1\\nDifan Deng 2\\nNeeratyoy Mallik 1\\nMatthias Feurer 1\\nKatharina Eggensperger 1\\nAndré Biedenkapp 1\\nDiederick Vermetten 3\\nHao Wang 3\\nCarola Doerr 4\\nMarius Lindauer 2\\nFrank Hutter 1,5\\n1University of Freiburg 2Leibniz University Hannover 3Leiden University\\n4Sorbonne Université, CNRS, LIP6 5Bosch Center for Artiﬁcial Intelligence\\nIn this short note, we describe our submission to the NeurIPS 2020 BBO challenge.\\nMo-\\ntivated by the fact that different optimizers work well on different problems,\\nour ap-\\nproach switches between different optimizers.1\\nSince the team names on the competi-\\ntion’s leaderboard were randomly generated “alliteration nicknames”, consisting of an ad-\\njective and an animal with the same initial letter, we called our approach the Switching\\nSquirrel, or here, short, Squirrel.\\nOur reference implementation of Squirrel is available at\\nhttps://github.com/automl/Squirrel-Optimizer-BBO-NeurIPS20-automlorg.\\nThe challenge mandated to suggest 16 successive batches of 8 hyperparameter conﬁgurations at a\\ntime. We chose to only use one optimizer for a given batch, warmstarted with all previous observa-\\ntions.\\nIn our Squirrel framework, we switched between the following components:\\n1. An initial design (for known hyperparameter spaces: found by meta-learning; otherwise:\\nselected by differential evolution) (3 batches);\\n2. Optimization using Bayesian optimization by integrating the SMAC optimizer [6, 10] with\\na portfolio of different triplets of surrogate model, acquisition function, and output space\\ntransformation (8 batches); and\\n3. Optimization using Differential Evolution (DE) [15] with parameter adaptation (5 batches).\\nWe now discuss these components in turn.\\nMeta-learning the initial design\\nSince the challenge was a blackbox challenge, it was a priori\\nunknown which algorithms should be optimized using which conﬁguration spaces. In order to mimic\\nwhat one would do in a real-world optimization service based on the bayesmark [16] environment,\\nfor each of the conﬁguration spaces provided by bayesmark we applied meta-learning to select an\\ninitial design of strong conﬁgurations to start from [12, 4]. For each of these spaces, we performed\\nextensive ofﬂine optimization on 11 datasets (the 6 datasets built into bayesmark and 5 additional\\nOpenML [17] datasets2), both for optimizing accuracy and negative log-likelihood. This resulted\\nin 22 conﬁgurations3 for each of the conﬁguration spaces in bayesmark. When facing one of these\\nknown spaces (deﬁned as an exact match of dimensions, names, and search ranges), we warm-started\\nSquirrel with the corresponding 22 conﬁgurations, plus 2 randomly sampled ones, using 3 batches\\nof 8 conﬁgurations.\\nWhen facing an unknown conﬁguration space, Squirrel initialized the optimization procedure by\\nemploying DE with a random initial design, using DE for 3 batches of 8 conﬁgurations.\\n1Switching between algorithms also relates to work on chaining or algorithm schedules.\\n2We only considered 5 additional datasets for lack of time and compute power; better performance could be\\nobtained using more datasets for meta-learning.\\n3Extracted from the ofﬂine performance data using IOHanalyzer [18].\\nBayesian optimization with SMAC\\nSquirrel exploits that the SMAC3 package implements dif-\\nferent surrogate models (including GPs [11] & random forests [2] (RF)) and different acquisition\\nfunctions (Expected Improvement (EI) [7], LogEI [6], probability of improvement (PI) [8], and\\nlower conﬁdence bound (LCB) [14]) that can be chosen from, making it easier to adapt to differ-\\nent loss landscapes and combat model mismatch. In view of the batch setting of the competition,\\nSquirrel employs a portfolio of different triplets of surrogate model, acquisition function, and out-\\nput space transformation to sample a batch of conﬁgurations in each iteration. This choice exploits\\nthat different acquisition functions implement different trade-off strategies between exploitation and\\nexploration, while different surrogate models allow to ﬁt different kinds of functions. Furthermore,\\nSquirrel applies different transformations of the output space before ﬁtting the surrogate model,\\nincl. log and copula [13] transformations. By doing so, we warp the loss function landscape,\\nwhich further promotes the diversity of the suggestions. For the portfolio, we made the following\\nchoices. GPs usually describe low-dimensional response functions better and EI is a very robust\\nacquisition function; thus, we overall favoured GPs and EI. In total, we used 8 different triplets as\\nfollows: GP + EI + no_transform, GP + PI + no_transform, GP + LCB + no_transform, GP + EI\\n+ copula_transform, GP + logEI + log_transform, RF + EI + no_transform, RF + logEI + logTrans-\\nform and RF + EI + copula_transform. These choices could likely be optimized further. To further\\npromote diversity among the proposals we use the Kriging Believer [5] and randomly reorder the\\ntriplets for each batch before sequentially querying them for suggestions.\\nOptimization with DE\\nTo complement the global search strategy of Bayesian optimization, Squir-\\nrel runs differential evolution (DE) as a more greedy and ﬁnal stage for the last 5 batches. Our\\nversion of DE takes the observations from the previous stages as an input to initialize a population\\nof size 8 (the required batch size) by taking the best conﬁguration observed so far, and choosing\\nthe other conﬁgurations of the population randomly from all previously-evaluated conﬁgurations. It\\nthen starts the evolutionary search by iterating three operations: mutation, crossover, and selection.\\nFor the mutation operation, we generated a child/offspring for each conﬁguration in the population\\nby the greedy best/2 mutation strategy [15]. The scaling factor F which controls the difference\\nvector in the mutation operation is adapted using a decreasing sinusoidal equation [3, 1]. This adap-\\ntation leads to more exploration of the search space when DE starts and more exploitation around\\nthe best-found region in later phases of the search. When the mutation phase is completed, the bi-\\nnomial (also known as uniform) crossover [15] is applied to each target conﬁguration Xi,g and its\\ncorresponding mutant conﬁguration Vi,g to generate an offspring Ui,g. The crossover rate CRi,g is\\nsampled from the normal distribution N(0.5, 0.01), determining the probability by which a hyper-\\nparameter value is copied from the mutant conﬁguration (the hyperparameter value is taken from\\nthe parent otherwise). After the ﬁnal offspring is evaluated, truncation selection is applied: the trial\\nconﬁguration Ui,g replaces its parent if it has a better function value and is discarded otherwise (in\\nthis case the parent conﬁguration Xi,g remains in the population).\\nResult in the ofﬁcial BBO competition\\nOur submission ranked 3rd on the public leaderboard of\\nthe NeurIPS 2020 BBO challenge. For the ﬁnal evaluation, it would have also ranked 3rd, had it not\\nhad a minor bug regarding the type of its output object, which let it crash.\\nIn detail, the API speciﬁcations asked for the optimizers to return a list of dictionaries. Squirrel\\nis built around a custom library for handling hyperparameter conﬁgurations [9], and we returned\\na list of its Configuration objects (a Configuration is a dict-like object implementing many\\nmethods of standard Python dictionaries, including all methods used by bayesmark). This worked\\nwith the challenge starter kit, the public bayesmark code and the testing server throughout the entire\\n3-months submission period without causing an error, but failed in the ﬁnal evaluation, possibly\\nbecause it does not fully implement the speciﬁcations of a Python dictionary. This indicates that the\\nﬁnal evaluation used benchmarks with stricter type checks or different evaluation code than the code\\nin the starter kit/bayesmark/test server. After the ofﬁcial rankings, the organizers reran our code with\\na 1-line ﬁx (which replaced our Configuration output object with its corresponding dict object);\\nthis ﬁxed version yielded a score of 92.551495, which would have placed it on rank 3.\\nResult in the BBO competition’s warmstarting-friendly leaderboard\\nWhile the ﬁnal evalua-\\ntion used conﬁguration spaces with altered hyperparameter names, the organizers also computed\\nan alternate “warmstarting-friendly leaderboard” that uses un-altered hyperparameter names and\\nthereby provides full information about the identity of the algorithm being optimized. Our submis-\\n2\\nsion won 1st place in this leaderboard (with a score of 94.845476 and the organizers’ bootstrap\\nanalysis showing a 100% conﬁdence in this 1st place ranking), winning a prize of 3 000 USD gen-\\nerously sponsored by 4Paradigm. This success underlines the power of even simple meta-learning\\napproaches.\\nReferences\\n[1] N. Awad, M. Ali, P. Suganthan, and R. Reynolds. An ensemble sinusoidal parameter adaptation\\nincorporated with l-shade for solving cec2014 benchmark problems. In Proceedings of IEEE\\ncongress on evolutionary computation (CEC’16). IEEE, 2016.\\n[2] L. Breimann. Random forests. Machine Learning Journal, 45:5–32, 2001.\\n[3] A. Draa, S. Bouzoubia, and I. Boukhalfa. A sinusoidal differential evolution algorithm for\\nnumerical optimisation. Applied Soft Computing, 27:99 – 126, 2015.\\n[4] M. Feurer, J. Springenberg, and F. Hutter. Initializing Bayesian hyperparameter optimization\\nvia meta-learning. In B. Bonet and S. Koenig, editors, Proceedings of the Twenty-nineth Na-\\ntional Conference on Artiﬁcial Intelligence (AAAI’15), pages 1128–1135. AAAI Press, 2015.\\n[5] D. Ginsbourger, R. Le Riche, and L. Carraro. Kriging is well-suited to parallelize optimization.\\nIn Computational Intelligence in Expensive Optimization Problems, pages 131–162. Springer,\\n2010.\\n[6] F. Hutter, H. Hoos, and K. Leyton-Brown. Sequential model-based optimization for general\\nalgorithm conﬁguration. In C. Coello, editor, Proceedings of the Fifth International Confer-\\nence on Learning and Intelligent Optimization (LION’11), volume 6683 of Lecture Notes in\\nComputer Science, pages 507–523. Springer, 2011.\\n[7] D. Jones, M. Schonlau, and W. Welch. Efﬁcient global optimization of expensive black box\\nfunctions. Journal of Global Optimization, 13:455–492, 1998.\\n[8] H. Kushner. A new method of locating the maximum point of an arbitrary multipeak curve in\\nthe presence of noise. Journal of Basic Engineering, 86(1):97–106, 1964.\\n[9] M. Lindauer, K. Eggensperger, M. Feurer, A. Biedenkapp, J. Marben, P. Müller, and F. Hutter.\\nBOAH: a tool suite for multi-ﬁdelity bayesian optimization & analysis of hyperparameters.\\narXiv:1908.06756 [cs.LG], 2019.\\n[10] M. Lindauer, K. Eggensperger, M. Feurer, S. Falkner, A. Biedenkapp, and F. Hutter. SMAC\\nv3: Algorithm conﬁguration in Python. https://github.com/automl/SMAC3, 2017.\\n[11] C. Rasmussen and C. Williams. Gaussian Processes for Machine Learning. The MIT Press,\\n2006.\\n[12] M. Reif, F. Shafait, and A. Dengel. Meta-learning for evolutionary parameter optimization of\\nclassiﬁers. Machine Learning, 87:357–380, 2012.\\n[13] D. Salinas, H. Shen, and V. Perrone. A quantile-based approach for hyperparameter transfer\\nlearning. In H. Daumé and A. Singh, editors, Proceedings of the 37th International Confer-\\nence on Machine Learning (ICML’20), volume 82, pages 8438–8448. Proceedings of Machine\\nLearning Research, 2020.\\n[14] N. Srinivas, A. Krause, S. Kakade, and M. Seeger. Gaussian process optimization in the bandit\\nsetting: No regret and experimental design. In J. Fürnkranz and T. Joachims, editors, Proceed-\\nings of the 27th International Conference on Machine Learning (ICML’10), pages 1015–1022.\\nOmnipress, 2010.\\n[15] R. Storn and K. Price. Differential evolution–a simple and efﬁcient heuristic for global opti-\\nmization over continuous spaces. Journal of global optimization, 11(4):341–359, 1997.\\n[16] Uber. Bayesopt benchmark. https://bayesmark.readthedocs.io/en/latest/.\\n[17] J. Vanschoren, J. van Rijn, B. Bischl, and L. Torgo. OpenML: Networked science in machine\\nlearning. SIGKDD Explor. Newsl., 15(2):49–60, 2014.\\n[18] H. Wang, D. Vermetten, F. Ye, C. Doerr, and T. Bäck. IOHanalyzer: Performance analysis for\\niterative optimization heuristic. arXiv:2007.03953 [cs.NE], 2020.\\n3\\n')]"
      ]
     },
     "execution_count": 43,
     "metadata": {},
     "output_type": "execute_result"
    }
   ],
   "execution_count": 43
  },
  {
   "metadata": {},
   "cell_type": "markdown",
   "source": "- `load_all_available_meta`: controls whether to load all available metadata",
   "id": "2d9bda0a8c578fa0"
  },
  {
   "metadata": {
    "ExecuteTime": {
     "end_time": "2024-12-08T19:26:24.876053Z",
     "start_time": "2024-12-08T19:26:24.858023Z"
    }
   },
   "cell_type": "code",
   "source": [
    "retriever = ArxivRetriever(\n",
    "    load_max_docs=2,\n",
    "    get_full_documents=True,\n",
    "    doc_content_chars_max=100,\n",
    "    load_all_available_meta=True\n",
    ")"
   ],
   "id": "1266291ac0088cd2",
   "outputs": [],
   "execution_count": 44
  },
  {
   "metadata": {
    "ExecuteTime": {
     "end_time": "2024-12-08T19:26:36.692929Z",
     "start_time": "2024-12-08T19:26:34.473279Z"
    }
   },
   "cell_type": "code",
   "source": "docs_with_meta = retriever.invoke('squirrels')",
   "id": "96938671e9c2a535",
   "outputs": [],
   "execution_count": 45
  },
  {
   "metadata": {
    "ExecuteTime": {
     "end_time": "2024-12-08T19:26:37.948280Z",
     "start_time": "2024-12-08T19:26:37.938176Z"
    }
   },
   "cell_type": "code",
   "source": "docs_with_meta",
   "id": "f210e42b686266f7",
   "outputs": [
    {
     "data": {
      "text/plain": [
       "[Document(metadata={'Published': '2023-04-20', 'Title': 'A discrete model for the growth and spread of the Scottish populations of red squirrels (Sciurus vulgaris) and grey squirrels (Sciurus carolinensis)', 'Authors': 'Jean-Baptiste Gramain', 'Summary': 'In this article, a model, discrete in space and time, is developed to\\ndescribe the growth and spread of the Scottish populations of red squirrels\\n(Sciurus vulgaris) and grey squirrel (Sciurus carolinensis). The initial state\\nfor the model is designed using a large dataset of records of sightings of\\nindividuals of both species reported by members of the public. Choices of\\nparameters involved in the model and their values are informed by the analysis\\nof this dataset for the period 2011-2016, and model predictions are compared to\\nrecords for the years 2006-2019.', 'entry_id': 'http://arxiv.org/abs/2304.10383v1', 'published_first_time': '2023-04-20', 'comment': None, 'journal_ref': None, 'doi': None, 'primary_category': 'q-bio.PE', 'categories': ['q-bio.PE', '92-10'], 'links': ['http://arxiv.org/abs/2304.10383v1', 'http://arxiv.org/pdf/2304.10383v1']}, page_content='A discrete model for the growth and spread of the Scottish populations of red \\nsquirrels (Sciurus vu'),\n",
       " Document(metadata={'Published': '2020-12-16', 'Title': 'Squirrel: A Switching Hyperparameter Optimizer', 'Authors': \"Noor Awad, Gresa Shala, Difan Deng, Neeratyoy Mallik, Matthias Feurer, Katharina Eggensperger, Andre' Biedenkapp, Diederick Vermetten, Hao Wang, Carola Doerr, Marius Lindauer, Frank Hutter\", 'Summary': 'In this short note, we describe our submission to the NeurIPS 2020 BBO\\nchallenge. Motivated by the fact that different optimizers work well on\\ndifferent problems, our approach switches between different optimizers. Since\\nthe team names on the competition\\'s leaderboard were randomly generated\\n\"alliteration nicknames\", consisting of an adjective and an animal with the\\nsame initial letter, we called our approach the Switching Squirrel, or here,\\nshort, Squirrel.', 'entry_id': 'http://arxiv.org/abs/2012.08180v2', 'published_first_time': '2020-12-15', 'comment': None, 'journal_ref': None, 'doi': None, 'primary_category': 'cs.LG', 'categories': ['cs.LG', 'cs.NE', 'stat.ML'], 'links': ['http://arxiv.org/abs/2012.08180v2', 'http://arxiv.org/pdf/2012.08180v2']}, page_content='arXiv:2012.08180v2  [cs.LG]  16 Dec 2020\\nSquirrel: A Switching Hyperparameter Optimizer\\nDescription ')]"
      ]
     },
     "execution_count": 46,
     "metadata": {},
     "output_type": "execute_result"
    }
   ],
   "execution_count": 46
  },
  {
   "metadata": {},
   "cell_type": "code",
   "outputs": [],
   "execution_count": null,
   "source": "",
   "id": "768c0e27466aa910"
  }
 ],
 "metadata": {
  "colab": {
   "provenance": []
  },
  "kernelspec": {
   "display_name": "Python 3",
   "language": "python",
   "name": "python3"
  },
  "language_info": {
   "codemirror_mode": {
    "name": "ipython",
    "version": 3
   },
   "file_extension": ".py",
   "mimetype": "text/x-python",
   "name": "python",
   "nbconvert_exporter": "python",
   "pygments_lexer": "ipython3",
   "version": "3.11.10"
  }
 },
 "nbformat": 4,
 "nbformat_minor": 5
}
